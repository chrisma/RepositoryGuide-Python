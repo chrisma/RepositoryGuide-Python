{
 "cells": [
  {
   "cell_type": "markdown",
   "metadata": {},
   "source": [
    "This notebook is responsible for visualizing the data from the Github API, which should be provided in a serialized format.\n",
    "\n",
    "Requirement: It must be possible to run this notebook using JupyterLite.\n",
    "\n",
    "For an exemplary use case, please see the project's `README.md`.\n",
    "\n",
    "Important aspects of the different cells, and how to use them are explained in markdown comments above them."
   ]
  },
  {
   "cell_type": "markdown",
   "metadata": {},
   "source": [
    "### Troubleshooting:\n",
    "\n",
    "#### Even after reloading (deep-refreshing) the page, a notebook is not updated\n",
    "\n",
    "This likely occurred because the backend and frontend of jupyterlite are out of sync.\n",
    "I am not yet sure why this happens even after a deep-refresh of the page, as this should update the frontend according to the jupyterlite documentation.\n",
    "As a workaround, delete the cache/cookies for the page and reload it.\n",
    "Note that you this will reset all notebooks to their versions saved on Github, so download your notebooks if necessary.\n",
    "You will also have to re-run the notebooks.\n",
    "\n",
    "An additional necessary step may be to \"delete\" the files in question in jupyterlite, which should refresh them with the version on Github.\n",
    "\n",
    "#### The `commits.json` cannot be found when it is being loaded\n",
    "\n",
    "Same reasoning & workaround as above."
   ]
  },
  {
   "cell_type": "code",
   "execution_count": null,
   "metadata": {
    "tags": []
   },
   "outputs": [],
   "source": [
    "# We need to install dependecies for the frontend separately in JupyterLite\n",
    "%pip install ipywidgets plotly pandas"
   ]
  },
  {
   "cell_type": "code",
   "execution_count": null,
   "metadata": {
    "tags": []
   },
   "outputs": [],
   "source": [
    "import json\n",
    "import datetime\n",
    "import numpy as np\n",
    "import plotly.express as px\n",
    "import plotly.graph_objects as go\n",
    "import ipywidgets\n",
    "from IPython import display"
   ]
  },
  {
   "cell_type": "markdown",
   "metadata": {},
   "source": [
    "The `commits.json` must be provided beforehand.\n",
    "We recommend using the Github CLI, using the [commits](https://docs.github.com/en/rest/commits/commits?apiVersion=2022-11-28) endpoint to generate the commit list.\n",
    "You can take a look at the provided file for an example."
   ]
  },
  {
   "cell_type": "code",
   "execution_count": null,
   "metadata": {},
   "outputs": [],
   "source": [
    "# Read the commit data from the 'commits.json'\n",
    "with open('commits.json') as f:\n",
    "\tcommits_including_merges = json.load(f)"
   ]
  },
  {
   "cell_type": "code",
   "execution_count": null,
   "metadata": {},
   "outputs": [],
   "source": [
    "# Convert all the commit dates to datetime objects within the commit for easier handling later on\n",
    "for commit in commits_including_merges:\n",
    "\tcommit['commit']['author']['date'] = datetime.datetime.strptime(commit['commit']['author']['date'], '%Y-%m-%dT%H:%M:%SZ')"
   ]
  },
  {
   "cell_type": "code",
   "execution_count": null,
   "metadata": {},
   "outputs": [],
   "source": [
    "# Exclude merge commits, i.e. commits with more than one parent\n",
    "commits = [commit for commit in commits_including_merges if len(commit['parents']) == 1]\n",
    "print(f'There are a total of {len(commits_including_merges)} commits in the repository, of which {len(commits)} are not merge commits.')"
   ]
  },
  {
   "cell_type": "code",
   "execution_count": null,
   "metadata": {},
   "outputs": [],
   "source": [
    "# Exclude commits without an \"author\" object\n",
    "commits = [commit for commit in commits if (commit['author'] and len(commit['author']) > 0)]"
   ]
  },
  {
   "cell_type": "markdown",
   "metadata": {},
   "source": [
    "This cell handles the number of and the date ranges of sprints.\n",
    "Use the slider to change the number of sprints, and then use the text fields and date pickers to set a custom name and date range for each sprint.\n",
    "Remember to also provide a sprint covering your whole project's duration if you wish to view commit statistics for the whole project in the heatmap."
   ]
  },
  {
   "cell_type": "code",
   "execution_count": null,
   "metadata": {},
   "outputs": [],
   "source": [
    "# Setting up the number & date ranges of sprints\n",
    "num_sprints_output = ipywidgets.Output()\n",
    "\n",
    "num_sprints = ipywidgets.IntSlider(min=1, max=10, step=1, description='No. of sprints')\n",
    "\n",
    "num_sprints_output.append_display_data(num_sprints)\n",
    "num_sprints_output.append_stdout('Set a name and the start and end dates for each sprint below:')\n",
    "\n",
    "sprint_names = []\n",
    "start_dates = []\n",
    "end_dates = []\n",
    "\n",
    "# Initialize the widgets for the first sprint\n",
    "sprint_names.append(ipywidgets.Text(value=f'Sprint 1', placeholder='Set the name for this Sprint', description='Sprint Name:'))\n",
    "start_dates.append(ipywidgets.DatePicker(description='Start Date'))\n",
    "end_dates.append(ipywidgets.DatePicker(description='End Date'))\n",
    "num_sprints_output.append_display_data(sprint_names[0])\n",
    "num_sprints_output.append_display_data(start_dates[0])\n",
    "num_sprints_output.append_display_data(end_dates[0])\n",
    "\n",
    "# Automatically add/remove the widgets based on the number of sprints\n",
    "def update_sprints(change):\n",
    "\tif change['type'] == 'change' and change['name'] == 'value':\n",
    "\t\tif change['new'] > change['old']:\n",
    "\t\t\t# Only add a new widget if we do not have one with this \"number\" already\n",
    "\t\t\tif len(sprint_names) < change['new']:\n",
    "\t\t\t\tsprint_names.append(ipywidgets.Text(value=f'Sprint {change[\"new\"]}', placeholder='Set the name for this Sprint', description='Sprint Name:'))\n",
    "\t\t\t\tstart_dates.append(ipywidgets.DatePicker(description='Start Date'))\n",
    "\t\t\t\tend_dates.append(ipywidgets.DatePicker(description='End Date'))\n",
    "\t\t\t# Display the necessary widgets for the new sprint\n",
    "\t\t\tnum_sprints_output.append_display_data(sprint_names[change[\"new\"] - 1])\n",
    "\t\t\tnum_sprints_output.append_display_data(start_dates[change[\"new\"] - 1])\n",
    "\t\t\tnum_sprints_output.append_display_data(end_dates[change[\"new\"] - 1])\n",
    "\t\telif change['new'] < change['old']:\n",
    "\t\t\t# Remove the widgets for the removed sprint (workaround, as clear_output() will not work here, as we are using append_display_data() instead of the 'with out:' syntax)\n",
    "\t\t\tnum_sprints_output.outputs = num_sprints_output.outputs[:-3]\n",
    "\n",
    "num_sprints.observe(update_sprints, names='value')\n",
    "\n",
    "display.display(num_sprints_output)"
   ]
  },
  {
   "cell_type": "markdown",
   "metadata": {},
   "source": [
    "This cell handles setting up teams and team members.\n",
    "Use the slider to change the number of teams, and then use the text fields to set a custom name for each team.\n",
    "For each team, upload a JSON file containing the list of team members, where the names are Github usernames.\n",
    "The JSON files should be in the following format:\n",
    "\n",
    "```json\n",
    "[\n",
    "  \"githubUsername\",\n",
    "  \"anotherUsername\"\n",
    "]\n",
    "```\n",
    "\n",
    "Due to the way the uploads widget works, all uploaded files will also be saved in JupyterLite's file browser."
   ]
  },
  {
   "cell_type": "code",
   "execution_count": null,
   "metadata": {},
   "outputs": [],
   "source": [
    "teams_output = ipywidgets.Output()\n",
    "\n",
    "num_teams = ipywidgets.IntSlider(min=1, max=10, step=1, description='No. of teams')\n",
    "\n",
    "teams_output.append_display_data(num_teams)\n",
    "teams_output.append_stdout('For each team, set a name and upload a JSON file with an Array of team member names below (more formats to follow):')\n",
    "\n",
    "team_names = []\n",
    "team_files = []\n",
    "team_members = []\n",
    "\n",
    "# Handler for the file upload widgets\n",
    "def handle_upload(change):\n",
    "\t# Only handle the upload if the file is not empty\n",
    "\tif change['new']:\n",
    "\t\t# Get the team index from the name of the widget\n",
    "\t\tteam_index = int(change['owner'].description.split(' ')[2]) - 1\n",
    "\t\t# Get the file name and content\n",
    "\t\tuploaded_file = next(iter(team_files[team_index].value))\n",
    "\t\twith open(uploaded_file.name, 'wb') as f:\n",
    "\t\t\tf.write(uploaded_file.content)\n",
    "\t\twith open(uploaded_file.name) as f:\n",
    "\t\t\tteam_members[team_index] = json.load(f)\n",
    "\t\tprint(f'Uploaded file {uploaded_file.name} for team {team_names[i].value}')\n",
    "\t\t# Print the team members\n",
    "\t\tprint(f'Team members:')\n",
    "\t\tprint(\"\\n\".join(team_members[team_index]))\n",
    "\t\tprint()\n",
    "\n",
    "# Initialize the widgets for the first team\n",
    "team_names.append(ipywidgets.Text(value=f'Team 1', placeholder='Set the name for this Team', description='Team Name:'))\n",
    "team_files.append(ipywidgets.FileUpload(description=f'Upload Team 1', accept='.json'))\n",
    "team_members.append([])\n",
    "teams_output.append_display_data(team_names[0])\n",
    "teams_output.append_display_data(team_files[0])\n",
    "\n",
    "# Register the upload handler for the first team\n",
    "team_files[0].observe(handle_upload, names='value')\n",
    "\n",
    "# Automatically add/remove the widgets based on the number of teams\n",
    "def update_teams(change):\n",
    "\tif change['type'] == 'change' and change['name'] == 'value':\n",
    "\t\tif change['new'] > change['old']:\n",
    "\t\t\t# Only add a new widget if we do not have one with this \"number\" already\n",
    "\t\t\tif len(team_names) < change['new']:\n",
    "\t\t\t\tteam_names.append(ipywidgets.Text(value=f'Team {change[\"new\"]}', placeholder='Set the name for this Team', description='Team Name:'))\n",
    "\t\t\t\tteam_files.append(ipywidgets.FileUpload(description=f'Upload Team {change[\"new\"]}', accept='.json'))\n",
    "\t\t\t\tteam_members.append([])\n",
    "\t\t\t\t# Register the upload handler for the new team\n",
    "\t\t\t\tteam_files[-1].observe(handle_upload, names='value')\n",
    "\t\t\t# Display the necessary widgets for the new team\n",
    "\t\t\tteams_output.append_display_data(team_names[change[\"new\"] - 1])\n",
    "\t\t\tteams_output.append_display_data(team_files[change[\"new\"] - 1])\n",
    "\t\telif change['new'] < change['old']:\n",
    "\t\t\t# Remove the widgets for the removed team (workaround, as clear_output() will not work here, as we are using append_display_data() instead of the 'with out:' syntax)\n",
    "\t\t\tteams_output.outputs = teams_output.outputs[:-2]\n",
    "\n",
    "num_teams.observe(update_teams, names='value')\n",
    "\n",
    "display.display(teams_output)"
   ]
  },
  {
   "cell_type": "markdown",
   "metadata": {},
   "source": [
    "This cell contains the logic for the commit heatmap.\n",
    "As with any other cell, you can directly edit the code to change the tool's behaviour in ways not supported by the UI.\n",
    "For example, you could change the color scheme from `oranges` to `viridis` by changing the `color_continuous_scale` parameter in the `px.densitytmap` call."
   ]
  },
  {
   "cell_type": "code",
   "execution_count": null,
   "metadata": {},
   "outputs": [],
   "source": [
    "def get_time_of_day(date):\n",
    "\t# Get the hour of the day\n",
    "\thour = date.hour\n",
    "\t# Return the time of day\n",
    "\tif hour <= 7 or hour >= 22:\n",
    "\t\treturn 0 # \"night\"\n",
    "\telif hour <= 12:\n",
    "\t\treturn 1 # \"morning\"\n",
    "\telif hour <= 17:\n",
    "\t\treturn 2 # \"afternoon\"\n",
    "\telse:\n",
    "\t\treturn 3 # \"evening\"\n",
    "\n",
    "# Plot a heatmap for the commit timings\n",
    "def plot_commit_heatmap(commits, team_members=None, start_date=None, end_date=None, time_mode=\"time_of_day\"):\n",
    "\t# Convert start and and dates to datetime objects\n",
    "\tif start_date is not None:\n",
    "\t\tstart_date = datetime.datetime.combine(start_date, datetime.datetime.min.time())\n",
    "\tif end_date is not None:\n",
    "\t\tend_date = datetime.datetime.combine(end_date, datetime.datetime.max.time())\n",
    "\n",
    "\t# Only include commits authored by one of the team members\n",
    "\tif team_members is not None:\n",
    "\t\tcommit_dates = [commit['commit']['author']['date'] for commit in commits if (commit['author']['login'] in team_members)]\n",
    "\telse:\n",
    "\t\tcommit_dates = [commit['commit']['author']['date'] for commit in commits]\n",
    "\t\n",
    "\t# Filter the dates to only include those between the start and end dates\n",
    "\tcommit_dates = [date for date in commit_dates if (start_date is None or date >= start_date) and (end_date is None or date <= end_date)]\n",
    "\n",
    "\t# Get the day of each commit\n",
    "\tdays = [date.weekday() for date in commit_dates]\n",
    "\n",
    "\t# Depending on the time_mode, get the hour or time of day for each commit\n",
    "\tif time_mode == 'hour':\n",
    "\t\tx_vals = [date.hour for date in commit_dates]\n",
    "\t\tx_axis_title = 'Hour'\n",
    "\t\tx_axis_tick_vals = np.arange(0, 24, 2)\n",
    "\t\tx_axis_tick_text = np.arange(0, 24, 2)\n",
    "\t\tx_bins = 24\n",
    "\telif time_mode == 'time_of_day':\n",
    "\t\tx_vals = [get_time_of_day(date) for date in commit_dates]\n",
    "\t\tx_axis_title = 'Time of day'\n",
    "\t\tx_axis_tick_vals = np.arange(0, 4)\n",
    "\t\tx_axis_tick_text = ['Night (22-7)', 'Morning (7-12)', 'Afternoon (12-17)', 'Evening (17-22)']\n",
    "\t\tx_bins = 4\n",
    "\t\n",
    "\tif len(x_vals) > 0:\n",
    "\t\t# Create a plotly heatmap\n",
    "\t\tfig = px.density_heatmap(x=x_vals, y=days, nbinsx=x_bins, nbinsy=7, histfunc='count', color_continuous_scale='oranges')\n",
    "\telse:\n",
    "\t\t# An empty array for x would cause an error, so we create a dummy heatmap with a single point\n",
    "\t\tfig = px.density_heatmap(x=[0], y=[], nbinsx=1, nbinsy=7, histfunc='count', color_continuous_scale='oranges')\n",
    "\n",
    "\t# Set y axis labels\n",
    "\tfig.update_yaxes(tickvals=np.arange(0, 7), ticktext=['Monday', 'Tuesday', 'Wednesday', 'Thursday', 'Friday', 'Saturday', 'Sunday'])\n",
    "\n",
    "\t# Set the title and axis labels\n",
    "\tfig.update_layout(title='Commit timings', xaxis_title=x_axis_title, yaxis_title='Day of the week', xaxis_tickvals=x_axis_tick_vals, xaxis_ticktext=x_axis_tick_text)\n",
    "\n",
    "\t# Update the labels for the hovertext. It should show the number of commits, the time and day of the week\n",
    "\tfig.update_traces(hovertemplate='%{z} commit(s) on %{y}' + ('<br>%{x}' if time_mode == 'time_of_day' else '<br>starting at %{x} o\\'clock'))\n",
    "\n",
    "\t# In order to be able to update the displayed figure within the cell's output (instead of the logs), we need to wrap it in a FigureWidget\n",
    "\tdisplayed_fig = go.FigureWidget(fig)\n",
    "\treturn displayed_fig"
   ]
  },
  {
   "cell_type": "markdown",
   "metadata": {},
   "source": [
    "This cell handles the display of the heatmap for the current project.\n",
    "Only one heatmap is displayed at a time, the sprint, team and \"time-mode\" for which this is done can be selected using the dropdown menus.\n",
    "If you change the date ranges of the sprints, you *do not* have to re-run this cell - any newly generated heatmap will automatically use the new date ranges.\n",
    "However, you do need to re-run the cell if you have changed the number of sprints, as this is not currently handled automatically.\n",
    "The same is true when editing the teams and team members."
   ]
  },
  {
   "cell_type": "code",
   "execution_count": null,
   "metadata": {
    "tags": []
   },
   "outputs": [],
   "source": [
    "heatmap_output = ipywidgets.Output()\n",
    "\n",
    "# Widget to select the displayed sprint\n",
    "sprint_selector = ipywidgets.Dropdown(\n",
    "\toptions=[(sprint_names[i].value, i) for i in range(num_sprints.value)],\n",
    "\tdescription='Sprint:'\n",
    ")\n",
    "\n",
    "# Widget to select the displayed team\n",
    "team_selector = ipywidgets.Dropdown(\n",
    "\toptions=[('All Authors', -1)] + [(team_names[i].value, i) for i in range(num_teams.value)],\n",
    "\tdescription='Team:'\n",
    ")\n",
    "selected_team_name = team_names[team_selector.value].value if team_selector.value != -1 else 'All Authors'\n",
    "selected_team_members = team_members[team_selector.value] if team_selector.value != -1 else None\n",
    "\n",
    "# Widget to select which time-mode to display\n",
    "time_mode_selector = ipywidgets.Dropdown(\n",
    "\toptions=[('Hourly', 'hour'), ('By time of day', 'time_of_day')],\n",
    "\tdescription='Time mode:'\n",
    ")\n",
    "\n",
    "fig = plot_commit_heatmap(commits, selected_team_members, start_dates[sprint_selector.value].value, end_dates[sprint_selector.value].value, time_mode_selector.value)\n",
    "fig.update_layout(title=f\"Commit times in '{sprint_names[sprint_selector.value].value}' ({start_dates[sprint_selector.value].value} - {end_dates[sprint_selector.value].value}) for '{selected_team_name}'\")\n",
    "\n",
    "heatmap_output.append_display_data(sprint_selector)\n",
    "heatmap_output.append_display_data(team_selector)\n",
    "heatmap_output.append_display_data(time_mode_selector)\n",
    "heatmap_output.append_display_data(fig)\n",
    "\n",
    "def update_fig(change):\n",
    "\tselected_team_name = team_names[team_selector.value].value if team_selector.value != -1 else 'All Authors'\n",
    "\tselected_team_members = team_members[team_selector.value] if team_selector.value != -1 else None\n",
    "\tfig = plot_commit_heatmap(commits, selected_team_members, start_dates[sprint_selector.value].value, end_dates[sprint_selector.value].value, time_mode_selector.value)\n",
    "\tfig.update_layout(title=f\"Commit times in '{sprint_names[sprint_selector.value].value}' ({start_dates[sprint_selector.value].value} - {end_dates[sprint_selector.value].value}) for '{selected_team_name}'\")\n",
    "\t# Remove the last item from the output, which is the old figure\n",
    "\theatmap_output.outputs = heatmap_output.outputs[:-1]\n",
    "\t# Add the new figure to the output\n",
    "\theatmap_output.append_display_data(fig)\n",
    "\n",
    "sprint_selector.observe(update_fig, names='value')\n",
    "team_selector.observe(update_fig, names='value')\n",
    "time_mode_selector.observe(update_fig, names='value')\n",
    "\n",
    "display.display(heatmap_output)"
   ]
  }
 ],
 "metadata": {
  "kernelspec": {
   "display_name": "Python 3 (ipykernel)",
   "language": "python",
   "name": "python3"
  },
  "language_info": {
   "codemirror_mode": {
    "name": "ipython",
    "version": 3
   },
   "file_extension": ".py",
   "mimetype": "text/x-python",
   "name": "python",
   "nbconvert_exporter": "python",
   "pygments_lexer": "ipython3",
   "version": "3.9.16"
  },
  "vscode": {
   "interpreter": {
    "hash": "067b78e4a44e8b0a0f6f4f23266782a314d21c0d58909bd8030b6a0c0eed9a04"
   }
  }
 },
 "nbformat": 4,
 "nbformat_minor": 4
}
