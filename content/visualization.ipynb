{
	"cells": [
		{
			"attachments": {},
			"cell_type": "markdown",
			"metadata": {},
			"source": [
				"This notebook is responsible for visualizing the data from the Github API, which should be provided in a serialized format.\n",
				"\n",
				"It must be possible to run this notebook using jupyterlite.\n",
				"\n",
				"If you do not see the newest version of the notebook, you have to \"delete\" it in your jupyterlite instance, as your local version is overriding the remote version provided by the deployment."
			]
		},
		{
			"attachments": {},
			"cell_type": "markdown",
			"metadata": {},
			"source": [
				"(jupyterlite) We need to manually install dependencies for the front-end, even though they are also defined in the `requirements.txt`."
			]
		},
		{
			"attachments": {},
			"cell_type": "markdown",
			"metadata": {},
			"source": [
				"### Troubleshooting:\n",
				"\n",
				"#### Even after reloading (deep-refreshing) the page, a notebook is not updated\n",
				"\n",
				"This likely occurred because the backend and frontend of jupyterlite are out of sync.\n",
				"I am not yet sure why this happens even after a deep-refresh of the page, as this should update the frontend according to the jupyterlite documentation.\n",
				"As a workaround, delete the cache/cookies for the page and reload it.\n",
				"Note that you this will reset all notebooks to their versions saved on Github, so download your notebooks if necessary.\n",
				"You will also have to re-run the notebooks.\n",
				"\n",
				"An additional necessary step may be to \"delete\" the files in question in jupyterlite, which should refresh them with the version on Github.\n",
				"\n",
				"#### The `commits.json` cannot be found when loading\n",
				"\n",
				"Same reasoning & workaround as above."
			]
		},
		{
			"cell_type": "code",
			"execution_count": null,
			"metadata": {},
			"outputs": [],
			"source": [
				"%pip install plotly ipywidgets"
			]
		},
		{
			"cell_type": "code",
			"execution_count": 52,
			"metadata": {
				"trusted": true
			},
			"outputs": [],
			"source": [
				"import json\n",
				"import datetime\n",
				"import numpy as np\n",
				"import plotly\n",
				"import ipywidgets"
			]
		},
		{
			"attachments": {},
			"cell_type": "markdown",
			"metadata": {},
			"source": [
				"TODO: We could use the file upload widget instead of requiring the user to already have uploaded the file to jupyterlite."
			]
		},
		{
			"cell_type": "code",
			"execution_count": 53,
			"metadata": {},
			"outputs": [],
			"source": [
				"# Read the commit data from the 'commits.json'\n",
				"with open('commits.json') as f:\n",
				"\tcommits_including_merges = json.load(f)"
			]
		},
		{
			"cell_type": "code",
			"execution_count": 54,
			"metadata": {},
			"outputs": [],
			"source": [
				"# Convert all the commit dates to datetime objects within the commit for easier handling later on\n",
				"for commit in commits_including_merges:\n",
				"\tcommit['commit']['author']['date'] = datetime.datetime.strptime(commit['commit']['author']['date'], '%Y-%m-%dT%H:%M:%SZ')"
			]
		},
		{
			"cell_type": "code",
			"execution_count": 55,
			"metadata": {},
			"outputs": [
				{
					"name": "stdout",
					"output_type": "stream",
					"text": [
						"There are a total of 1007 commits in the repository, of which 712 are not merge commits.\n"
					]
				}
			],
			"source": [
				"# Exclude merge commits, i.e. commits with more than one parent\n",
				"commits = [commit for commit in commits_including_merges if len(commit['parents']) == 1]\n",
				"print(f'There are a total of {len(commits_including_merges)} commits in the repository, of which {len(commits)} are not merge commits.')"
			]
		},
		{
			"cell_type": "code",
			"execution_count": 73,
			"metadata": {},
			"outputs": [],
			"source": [
				"# Exclude commits without an \"author\" object\n",
				"# e.g. sha 9a650be18f07d01a55d1c77d55f74dde7b24eb55 (in our test case, there are number of commits with \"author: null\" or \"author: {}\"\")\n",
				"commits = [commit for commit in commits if (commit['author'] and len(commit['author']) > 0)]"
			]
		},
		{
			"attachments": {},
			"cell_type": "markdown",
			"metadata": {},
			"source": [
				"This cell handles the number and date ranges of your sprints.\n",
				"Use the slider to change the number of sprints, and then use the text field and date picker to set a custom name and date range for each sprint.\n",
				"The number of displayed date pickers will change automatically when changing the number of sprints.\n",
				"Names and dates for \"removed\" sprints will be kept, but not displayed."
			]
		},
		{
			"cell_type": "code",
			"execution_count": 74,
			"metadata": {},
			"outputs": [
				{
					"data": {
						"application/vnd.jupyter.widget-view+json": {
							"model_id": "95479952a17645d8b962e531f3e91d6e",
							"version_major": 2,
							"version_minor": 0
						},
						"text/plain": [
							"Output(outputs=({'output_type': 'display_data', 'data': {'text/plain': \"IntSlider(value=1, description='No. of…"
						]
					},
					"metadata": {},
					"output_type": "display_data"
				}
			],
			"source": [
				"# Setting up the number & date ranges of sprints\n",
				"num_sprints_output = ipywidgets.Output()\n",
				"\n",
				"num_sprints = ipywidgets.IntSlider(min=1, max=10, step=1, description='No. of sprints')\n",
				"\n",
				"num_sprints_output.append_display_data(num_sprints)\n",
				"num_sprints_output.append_stdout('Set a name and the start and end dates for each sprint below:')\n",
				"\n",
				"sprint_names = []\n",
				"start_dates = []\n",
				"end_dates = []\n",
				"\n",
				"# Initialize the widgets for the first sprint\n",
				"sprint_names.append(ipywidgets.Text(value=f'Sprint 1', placeholder='Set the name for this Sprint', description='Sprint Name:'))\n",
				"start_dates.append(ipywidgets.DatePicker(description='Start Date'))\n",
				"end_dates.append(ipywidgets.DatePicker(description='End Date'))\n",
				"num_sprints_output.append_display_data(sprint_names[0])\n",
				"num_sprints_output.append_display_data(start_dates[0])\n",
				"num_sprints_output.append_display_data(end_dates[0])\n",
				"\n",
				"# Automatically add/remove the widgets based on the number of sprints\n",
				"def update_sprints(change):\n",
				"\tif change['type'] == 'change' and change['name'] == 'value':\n",
				"\t\tif change['new'] > change['old']:\n",
				"\t\t\t# Only add a new widget if we do not have one with this \"number\" already\n",
				"\t\t\tif len(sprint_names) < change['new']:\n",
				"\t\t\t\tsprint_names.append(ipywidgets.Text(value=f'Sprint {change[\"new\"]}', placeholder='Set the name for this Sprint', description='Sprint Name:'))\n",
				"\t\t\t\tstart_dates.append(ipywidgets.DatePicker(description='Start Date'))\n",
				"\t\t\t\tend_dates.append(ipywidgets.DatePicker(description='End Date'))\n",
				"\t\t\t# Display the necessary widgets for the new sprint\n",
				"\t\t\tnum_sprints_output.append_display_data(sprint_names[change[\"new\"] - 1])\n",
				"\t\t\tnum_sprints_output.append_display_data(start_dates[change[\"new\"] - 1])\n",
				"\t\t\tnum_sprints_output.append_display_data(end_dates[change[\"new\"] - 1])\n",
				"\t\telif change['new'] < change['old']:\n",
				"\t\t\t# Remove the widgets for the removed sprint (workaround, as clear_output() will not work here, as we are using append_display_data() instead of the 'with out:' syntax)\n",
				"\t\t\tnum_sprints_output.outputs = num_sprints_output.outputs[:-3]\n",
				"\n",
				"num_sprints.observe(update_sprints, names='value')\n",
				"\n",
				"display(num_sprints_output)"
			]
		},
		{
			"attachments": {},
			"cell_type": "markdown",
			"metadata": {},
			"source": [
				"This cell handles setting up teams and team members.\n",
				"\n",
				"Disclaimer: The Github API does not always return the username of the author of a commit, but rather the name of the author.\n",
				"This has to do with the various ways one can commit to Github, e.g. by using the Github website itself, the username will not be displayed. \n",
				"So, in its current form, the heatmap generated will not always include all commits by all team members."
			]
		},
		{
			"cell_type": "code",
			"execution_count": 75,
			"metadata": {},
			"outputs": [
				{
					"data": {
						"application/vnd.jupyter.widget-view+json": {
							"model_id": "ac7895bb7edd4e818c4c7b27e5db1a27",
							"version_major": 2,
							"version_minor": 0
						},
						"text/plain": [
							"Output(outputs=({'output_type': 'display_data', 'data': {'text/plain': \"IntSlider(value=1, description='No. of…"
						]
					},
					"metadata": {},
					"output_type": "display_data"
				}
			],
			"source": [
				"teams_output = ipywidgets.Output()\n",
				"\n",
				"num_teams = ipywidgets.IntSlider(min=1, max=10, step=1, description='No. of teams')\n",
				"\n",
				"teams_output.append_display_data(num_teams)\n",
				"teams_output.append_stdout('For each team, set a name and upload a JSON file with an Array of team member names below (more formats to follow):')\n",
				"\n",
				"team_names = []\n",
				"team_files = []\n",
				"team_members = []\n",
				"\n",
				"# Handler for the file upload widgets\n",
				"def handle_upload(change):\n",
				"\t# Only handle the upload if the file is not empty\n",
				"\tif change['new']:\n",
				"\t\t# Get the team index from the name of the widget\n",
				"\t\tteam_index = int(change['owner'].description.split(' ')[2]) - 1\n",
				"\t\t# Get the file name and content\n",
				"\t\tuploaded_file = next(iter(team_files[team_index].value))\n",
				"\t\twith open(uploaded_file.name, 'wb') as f:\n",
				"\t\t\tf.write(uploaded_file.content)\n",
				"\t\twith open(uploaded_file.name) as f:\n",
				"\t\t\tteam_members[team_index] = json.load(f)\n",
				"\t\tprint(f'Uploaded file {uploaded_file.name} for team {team_names[i].value}')\n",
				"\t\t# Print the team members\n",
				"\t\tprint(f'Team members:')\n",
				"\t\tprint(\"\\n\".join(team_members[team_index]))\n",
				"\t\tprint()\n",
				"\n",
				"# Initialize the widgets for the first team\n",
				"team_names.append(ipywidgets.Text(value=f'Team 1', placeholder='Set the name for this Team', description='Team Name:'))\n",
				"team_files.append(ipywidgets.FileUpload(description=f'Upload Team 1', accept='.json'))\n",
				"team_members.append([])\n",
				"teams_output.append_display_data(team_names[0])\n",
				"teams_output.append_display_data(team_files[0])\n",
				"\n",
				"# Register the upload handler for the first team\n",
				"team_files[0].observe(handle_upload, names='value')\n",
				"\n",
				"# Automatically add/remove the widgets based on the number of teams\n",
				"def update_teams(change):\n",
				"\tif change['type'] == 'change' and change['name'] == 'value':\n",
				"\t\tif change['new'] > change['old']:\n",
				"\t\t\t# Only add a new widget if we do not have one with this \"number\" already\n",
				"\t\t\tif len(team_names) < change['new']:\n",
				"\t\t\t\tteam_names.append(ipywidgets.Text(value=f'Team {change[\"new\"]}', placeholder='Set the name for this Team', description='Team Name:'))\n",
				"\t\t\t\tteam_files.append(ipywidgets.FileUpload(description=f'Upload Team {change[\"new\"]}', accept='.json'))\n",
				"\t\t\t\tteam_members.append([])\n",
				"\t\t\t\t# Register the upload handler for the new team\n",
				"\t\t\t\tteam_files[-1].observe(handle_upload, names='value')\n",
				"\t\t\t# Display the necessary widgets for the new team\n",
				"\t\t\tteams_output.append_display_data(team_names[change[\"new\"] - 1])\n",
				"\t\t\tteams_output.append_display_data(team_files[change[\"new\"] - 1])\n",
				"\t\telif change['new'] < change['old']:\n",
				"\t\t\t# Remove the widgets for the removed team (workaround, as clear_output() will not work here, as we are using append_display_data() instead of the 'with out:' syntax)\n",
				"\t\t\tteams_output.outputs = teams_output.outputs[:-2]\n",
				"\n",
				"num_teams.observe(update_teams, names='value')\n",
				"\n",
				"display(teams_output)"
			]
		},
		{
			"cell_type": "code",
			"execution_count": 76,
			"metadata": {},
			"outputs": [],
			"source": [
				"# Only for local use in VSCode, as the upload widget does not work there:\n",
				"class MockFileUpload:\n",
				"    def __init__(self, value):\n",
				"        self.value = value\n",
				"\n",
				"team_names = [\n",
				"    MockFileUpload(\"Team AP\"),\n",
				"    MockFileUpload(\"Team FN\")\n",
				"]\n",
				"\n",
				"team_members = [\n",
				"    [\n",
				"\t\t\"A-Persitzky\",\n",
				"\t\t\"antonykamp\",\n",
				"\t\t\"CR1337\",\n",
				"\t\t\"LucasDerReisende\",\n",
				"\t\t\"SaturnHafen\",\n",
				"\t\t\"Lietze\"\n",
				"    ], \n",
				"    [\n",
				"\t\t\"gwauge\",\n",
				"\t\t\"Arkinul\",\n",
				"\t\t\"MatthiasCr\",\n",
				"\t\t\"MaxSpeer\",\n",
				"\t\t\"Punguitius\",\n",
				"\t\t\"Glitterrosie\",\n",
				"\t\t\"simon-weissmueller\"\n",
				"    ]\n",
				"]"
			]
		},
		{
			"attachments": {},
			"cell_type": "markdown",
			"metadata": {},
			"source": [
				"This cell contains the logic for the commit heatmap.\n",
				"For a given time interval, the number of commits per day and hour of the day is displayed in a heatmap."
			]
		},
		{
			"cell_type": "code",
			"execution_count": 88,
			"metadata": {},
			"outputs": [],
			"source": [
				"def get_time_of_day(date):\n",
				"\t# Get the hour of the day\n",
				"\thour = date.hour\n",
				"\t# Return the time of day\n",
				"\tif hour <= 7 or hour >= 22:\n",
				"\t\treturn 0 # \"night\"\n",
				"\telif hour <= 12:\n",
				"\t\treturn 1 # \"morning\"\n",
				"\telif hour <= 17:\n",
				"\t\treturn 2 # \"afternoon\"\n",
				"\telse:\n",
				"\t\treturn 3 # \"evening\"\n",
				"\n",
				"# Plot a heatmap for the number of commits per day and hour of the week\n",
				"def plot_commit_heatmap(commits, team_members=None, start_date=None, end_date=None, time_mode=\"time_of_day\"):\n",
				"\t# Convert start and and dates to datetime objects\n",
				"\tif start_date is not None:\n",
				"\t\tstart_date = datetime.datetime.combine(start_date, datetime.datetime.min.time())\n",
				"\tif end_date is not None:\n",
				"\t\tend_date = datetime.datetime.combine(end_date, datetime.datetime.max.time())\n",
				"\n",
				"\t# Only include commits authored by one of the team members\n",
				"\tif team_members is not None:\n",
				"\t\tcommit_dates = [commit['commit']['author']['date'] for commit in commits if (commit['author']['login'] in team_members)]\n",
				"\telse:\n",
				"\t\tcommit_dates = [commit['commit']['author']['date'] for commit in commits]\n",
				"\t\n",
				"\t# Filter the dates to only include those between the start and end dates\n",
				"\tcommit_dates = [date for date in commit_dates if (start_date is None or date >= start_date) and (end_date is None or date <= end_date)]\n",
				"\n",
				"\t# Get the day of each commit\n",
				"\tdays = [date.weekday() for date in commit_dates]\n",
				"\n",
				"\t# Depending on the time_mode, get the hour or time of day for each commit\n",
				"\tif time_mode == 'hour':\n",
				"\t\ty_vals = [date.hour for date in commit_dates]\n",
				"\t\tfig_title = 'Hour of the day'\n",
				"\t\tx_axis_tick_vals = np.arange(0, 24, 2)\n",
				"\t\tx_axis_tick_text = np.arange(0, 24, 2)\n",
				"\t\tbins = (7, 24)\n",
				"\telif time_mode == 'time_of_day':\n",
				"\t\ty_vals = [get_time_of_day(date) for date in commit_dates]\n",
				"\t\tfig_title = 'Time of day'\n",
				"\t\tx_axis_tick_vals = np.arange(0, 4)\n",
				"\t\tx_axis_tick_text = ['Night (22-7)', 'Morning (7-12)', 'Afternoon (12-17)', 'Evening (17-22)']\n",
				"\t\tbins = (7, 4)\n",
				"\t\n",
				"\t# Create a 2D histogram of the day and hour\n",
				"\theatmap, xedges, yedges = np.histogram2d(days, y_vals, bins=bins)\n",
				"\t\n",
				"\t# Create a plotly figure\n",
				"\tfig = plotly.graph_objs.FigureWidget()\n",
				"\t\n",
				"\t# Add axis labels\n",
				"\tfig.update_layout(\n",
				"\t\txaxis=dict(\n",
				"\t\t\ttitle=fig_title,\n",
				"\t\t\ttickmode='array',\n",
				"\t\t\ttickvals=x_axis_tick_vals,\n",
				"\t\t\tticktext=x_axis_tick_text\n",
				"\t\t),\n",
				"\t\tyaxis=dict(\n",
				"\t\t\ttitle='Day of the week',\n",
				"\t\t\ttickmode='array',\n",
				"\t\t\ttickvals=np.arange(0, 7),\n",
				"\t\t\tticktext=['Monday', 'Tuesday', 'Wednesday', 'Thursday', 'Friday', 'Saturday', 'Sunday']\n",
				"\t\t)\n",
				"\t)\n",
				"\t\n",
				"\t# Add a heatmap trace\n",
				"\tfig.add_trace(plotly.graph_objs.Heatmap(\n",
				"\t\tz=heatmap,\n",
				"\t\tx=xedges,\n",
				"\t\ty=yedges,\n",
				"\t\tcolorscale='oranges',\n",
				"\t\tcolorbar=dict(\n",
				"\t\t\ttitle='Commits'\n",
				"\t\t),\n",
				"\t\thoverinfo='z'\n",
				"\t))\n",
				"\t\n",
				"\treturn fig"
			]
		},
		{
			"attachments": {},
			"cell_type": "markdown",
			"metadata": {},
			"source": [
				"This cell handles the display of the heatmap for the given sprints.\n",
				"Only one heatmap is displayed at a time, the sprint and team for which this is done can be selected using the dropdown menu.\n",
				"If you change the date ranges of the sprints, you *do not* have to re-run this cell.\n",
				"However, you do need to re-run the cell if you have changed the number of sprints, as this is not currently handled automatically."
			]
		},
		{
			"cell_type": "code",
			"execution_count": 89,
			"metadata": {},
			"outputs": [
				{
					"data": {
						"application/vnd.jupyter.widget-view+json": {
							"model_id": "e945621282f8414ba5ad6c9508adfb93",
							"version_major": 2,
							"version_minor": 0
						},
						"text/plain": [
							"Dropdown(description='Sprint:', options=(('2022', 0), ('2023', 1)), value=0)"
						]
					},
					"metadata": {},
					"output_type": "display_data"
				},
				{
					"data": {
						"application/vnd.jupyter.widget-view+json": {
							"model_id": "e57c8467ab8e4a4d9dcae13c4496fd79",
							"version_major": 2,
							"version_minor": 0
						},
						"text/plain": [
							"Dropdown(description='Team:', options=(('All Authors', -1), ('Team AP', 0), ('Team FN', 1)), value=-1)"
						]
					},
					"metadata": {},
					"output_type": "display_data"
				},
				{
					"data": {
						"application/vnd.jupyter.widget-view+json": {
							"model_id": "9f93f096dede465bb7be5ebf421bd92a",
							"version_major": 2,
							"version_minor": 0
						},
						"text/plain": [
							"FigureWidget({\n",
							"    'data': [{'colorbar': {'title': {'text': 'Commits'}},\n",
							"              'colorscale': [[0.0, 'rgb(255,245,235)'], [0.125,\n",
							"                             'rgb(254,230,206)'], [0.25, 'rgb(253,208,162)'],\n",
							"                             [0.375, 'rgb(253,174,107)'], [0.5, 'rgb(253,141,60)'],\n",
							"                             [0.625, 'rgb(241,105,19)'], [0.75, 'rgb(217,72,1)'],\n",
							"                             [0.875, 'rgb(166,54,3)'], [1.0, 'rgb(127,39,4)']],\n",
							"              'hoverinfo': 'z',\n",
							"              'type': 'heatmap',\n",
							"              'uid': '4b079163-ab02-47cd-bec6-f4e7f661c065',\n",
							"              'x': array([0.        , 0.85714286, 1.71428571, 2.57142857, 3.42857143, 4.28571429,\n",
							"                          5.14285714, 6.        ]),\n",
							"              'y': array([0.  , 0.75, 1.5 , 2.25, 3.  ]),\n",
							"              'z': array([[ 6., 16., 20.,  2.],\n",
							"                          [ 6., 17., 34., 11.],\n",
							"                          [ 2., 24., 41.,  9.],\n",
							"                          [ 0.,  7., 15.,  1.],\n",
							"                          [ 4.,  8., 18.,  4.],\n",
							"                          [ 1.,  7., 11.,  8.],\n",
							"                          [ 0.,  2.,  5.,  6.]])}],\n",
							"    'layout': {'template': '...',\n",
							"               'title': {'text': \"Commit timings during sprint '2022' (2022-01-01 - 2022-12-31) for team 'All Authors'\"},\n",
							"               'xaxis': {'tickmode': 'array',\n",
							"                         'ticktext': [Night (22-7), Morning (7-12), Afternoon\n",
							"                                      (12-17), Evening (17-22)],\n",
							"                         'tickvals': array([0, 1, 2, 3]),\n",
							"                         'title': {'text': 'Time of day'}},\n",
							"               'yaxis': {'tickmode': 'array',\n",
							"                         'ticktext': [Monday, Tuesday, Wednesday, Thursday,\n",
							"                                      Friday, Saturday, Sunday],\n",
							"                         'tickvals': array([0, 1, 2, 3, 4, 5, 6]),\n",
							"                         'title': {'text': 'Day of the week'}}}\n",
							"})"
						]
					},
					"metadata": {},
					"output_type": "display_data"
				}
			],
			"source": [
				"# Widget to select the displayed sprint\n",
				"sprint_selector = ipywidgets.Dropdown(\n",
				"\toptions=[(sprint_names[i].value, i) for i in range(num_sprints.value)],\n",
				"\tdescription='Sprint:'\n",
				")\n",
				"display(sprint_selector)\n",
				"\n",
				"# Widget to select the displayed team\n",
				"team_selector = ipywidgets.Dropdown(\n",
				"\toptions=[('All Authors', -1)] + [(team_names[i].value, i) for i in range(num_teams.value)],\n",
				"\tdescription='Team:'\n",
				")\n",
				"display(team_selector)\n",
				"selected_team_name = team_names[team_selector.value].value if team_selector.value != -1 else 'All Authors'\n",
				"selected_team_members = team_members[team_selector.value] if team_selector.value != -1 else None\n",
				"\n",
				"fig = plot_commit_heatmap(commits, selected_team_members, start_dates[sprint_selector.value].value, end_dates[sprint_selector.value].value)\n",
				"fig.update_layout(title=f'Commit timings during sprint \\'{sprint_names[sprint_selector.value].value}\\' ({start_dates[sprint_selector.value].value} - {end_dates[sprint_selector.value].value}) for team \\'{selected_team_name}\\'')\n",
				"display(fig)\n",
				"\n",
				"def update_sprint(change):\n",
				"\tselected_team_name = team_names[team_selector.value].value if team_selector.value != -1 else 'All Authors'\n",
				"\tselected_team_members = team_members[team_selector.value] if team_selector.value != -1 else None\n",
				"\tfig.data[0].z = plot_commit_heatmap(commits, selected_team_members, start_dates[sprint_selector.value].value, end_dates[sprint_selector.value].value).data[0].z\n",
				"\tfig.update_layout(title=f'Commit timings during sprint \\'{sprint_names[change[\"new\"]].value}\\' ({start_dates[change[\"new\"]].value} - {end_dates[change[\"new\"]].value}) for team \\'{selected_team_name}\\'')\n",
				"\n",
				"sprint_selector.observe(update_sprint, names='value')\n",
				"\n",
				"def update_team(change):\n",
				"\tselected_team_name = team_names[team_selector.value].value if team_selector.value != -1 else 'All Authors'\n",
				"\tselected_team_members = team_members[team_selector.value] if team_selector.value != -1 else None\n",
				"\tfig.data[0].z = plot_commit_heatmap(commits, selected_team_members, start_dates[sprint_selector.value].value, end_dates[sprint_selector.value].value).data[0].z\n",
				"\tfig.update_layout(title=f'Commit timings during sprint \\'{sprint_names[sprint_selector.value].value}\\' ({start_dates[sprint_selector.value].value} - {end_dates[sprint_selector.value].value}) for team \\'{selected_team_name}\\'')\n",
				"\n",
				"team_selector.observe(update_team, names='value')"
			]
		},
		{
			"cell_type": "code",
			"execution_count": null,
			"metadata": {},
			"outputs": [],
			"source": []
		}
	],
	"metadata": {
		"kernelspec": {
			"display_name": "venv",
			"language": "python",
			"name": "python3"
		},
		"language_info": {
			"codemirror_mode": {
				"name": "ipython",
				"version": 3
			},
			"file_extension": ".py",
			"mimetype": "text/x-python",
			"name": "python",
			"nbconvert_exporter": "python",
			"pygments_lexer": "ipython3",
			"version": "3.9.7"
		},
		"vscode": {
			"interpreter": {
				"hash": "067b78e4a44e8b0a0f6f4f23266782a314d21c0d58909bd8030b6a0c0eed9a04"
			}
		}
	},
	"nbformat": 4,
	"nbformat_minor": 4
}
