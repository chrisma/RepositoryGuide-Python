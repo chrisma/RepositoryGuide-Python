{
 "cells": [
  {
   "cell_type": "markdown",
   "metadata": {},
   "source": [
    "This notebook is responsible for visualizing the data from the Github API, which should be provided in a serialized format.\n",
    "\n",
    "Requirement: It must be possible to run this notebook using JupyterLite.\n",
    "\n",
    "For an exemplary use case, please see the project's `README.md`.\n",
    "\n",
    "Important aspects of the different cells, and how to use them are explained in markdown comments above them."
   ]
  },
  {
   "cell_type": "markdown",
   "metadata": {},
   "source": [
    "### Troubleshooting:\n",
    "\n",
    "#### Even after reloading (deep-refreshing) the page, a notebook is not updated\n",
    "\n",
    "This likely occurred because the backend and frontend of jupyterlite are out of sync.\n",
    "I am not yet sure why this happens even after a deep-refresh of the page, as this should update the frontend according to the jupyterlite documentation.\n",
    "As a workaround, delete the cache/cookies for the page and reload it.\n",
    "Note that you this will reset all notebooks to their versions saved on Github, so download your notebooks if necessary.\n",
    "You will also have to re-run the notebooks.\n",
    "\n",
    "An additional necessary step may be to \"delete\" the files in question in jupyterlite, which should refresh them with the version on Github.\n",
    "\n",
    "#### The `commits.json` cannot be found when it is being loaded\n",
    "\n",
    "Same reasoning & workaround as above."
   ]
  },
  {
   "cell_type": "code",
   "execution_count": null,
   "metadata": {
    "tags": []
   },
   "outputs": [],
   "source": [
    "# We need to install dependecies for the frontend separately in JupyterLite\n",
    "%pip install ipywidgets plotly pandas tabulate"
   ]
  },
  {
   "cell_type": "code",
   "execution_count": null,
   "metadata": {
    "tags": []
   },
   "outputs": [],
   "source": [
    "import json\n",
    "from datetime import datetime\n",
    "import numpy as np\n",
    "import pandas as pd\n",
    "import plotly.express as px\n",
    "import plotly.graph_objects as go\n",
    "import ipywidgets\n",
    "from IPython import display\n",
    "import tabulate #https://pypi.org/project/tabulate/"
   ]
  },
  {
   "cell_type": "code",
   "execution_count": null,
   "metadata": {
    "tags": []
   },
   "outputs": [],
   "source": [
    "with open('commits.json') as f:\n",
    "    data = json.load(f)\n",
    "    df = pd.json_normalize(data)\n",
    "df['_date'] = df.apply(lambda row: pd.to_datetime(row['commit.author.date'], format='%Y-%m-%dT%H:%M:%SZ'), axis='columns')\n",
    "df['_merge_commit'] = df.apply(lambda row: len(row['parents']) >= 2, axis='columns')\n",
    "cs = df[~df['_merge_commit'] & ~df['author.login'].isna()].copy()\n",
    "\n",
    "display.display(tabulate.tabulate(\n",
    "    [[\"Retrieved commits from repository:\", len(df)],\n",
    "     [\"Merge commits that are excluded:\", len(df[df['_merge_commit']])],\n",
    "     [\"Non-merge commits missing GitHub user:\", len(df[~df['_merge_commit'] & df['author.login'].isna()])],\n",
    "     [\"Amount of qualifying commits:\", len(cs)],\n",
    "     [\"Unique authors in qualifying commits:\", len(cs['author.login'].unique())],\n",
    "     [\"Earliest commit:\", cs['_date'].min().date()],\n",
    "     [\"Latest commit:\", cs['_date'].max().date()]\n",
    "    ], tablefmt='html'))"
   ]
  },
  {
   "cell_type": "code",
   "execution_count": null,
   "metadata": {
    "tags": []
   },
   "outputs": [],
   "source": [
    "not_assigned = df[~df['_merge_commit'] & df['author.login'].isna()] \\\n",
    "    .groupby(['commit.author.name','commit.author.email','commit.committer.name','commit.committer.email'], as_index=False) \\\n",
    "    .size()\n",
    "\n",
    "out = ipywidgets.Output()\n",
    "out.append_display_data(not_assigned.style.set_caption(\"Information of commits not assigned to GitHub users\"))\n",
    "ipywidgets.Accordion(children=[out], titles=(f\"{len(not_assigned)} commits not assigned to GitHub users\",))"
   ]
  },
  {
   "cell_type": "code",
   "execution_count": null,
   "metadata": {
    "tags": []
   },
   "outputs": [],
   "source": [
    "# Sprints\n",
    "sprint_inputs = ipywidgets.VBox()\n",
    "sprints = pd.DataFrame({'name': [], 'start': [], 'end': [], 'length': []})\n",
    "\n",
    "sprint_out = ipywidgets.Output()\n",
    "def parse_sprints(button_param):\n",
    "    sprints.drop(sprints.index, inplace=True)  # Clear rows of dataframe\n",
    "    for hbox in sprint_inputs.children:\n",
    "        if hbox.children[0].value != '': # Don't include sprints with empty name\n",
    "            sprints.loc[len(sprints)] = [wdgt.value for wdgt in hbox.children] + [None]\n",
    "    sprints['length'] = sprints['end'] - sprints['start']\n",
    "    with sprint_out:\n",
    "        sprint_out.clear_output(wait=True)\n",
    "        display.display(sprints)\n",
    "\n",
    "def add_s_input_row(param):\n",
    "    n = ipywidgets.Text(value=f\"Sprint {len(sprint_inputs.children)+1}\", placeholder='Sprint Name', description='Sprint Name:')\n",
    "    s = ipywidgets.DatePicker(description='Start Date', value=cs['_date'].min().date())\n",
    "    e = ipywidgets.DatePicker(description='End Date', value=cs['_date'].max().date())\n",
    "    sprint_inputs.children += (ipywidgets.HBox([n,s,e]),)\n",
    "    n.observe(parse_sprints, names='value')\n",
    "    s.observe(parse_sprints, names='value')\n",
    "    e.observe(parse_sprints, names='value')\n",
    "    parse_sprints(None)\n",
    "\n",
    "add_s_btn = ipywidgets.Button(description='Add Sprint', button_style='success', icon='plus')\n",
    "add_s_btn.on_click(add_s_input_row)\n",
    "add_s_input_row(None)\n",
    "\n",
    "display.display(ipywidgets.Label(value='Sprints to be used in analyses:'))\n",
    "display.display(add_s_btn)\n",
    "display.display(sprint_inputs)\n",
    "\n",
    "# Teams\n",
    "team_inputs = ipywidgets.VBox()\n",
    "teams = pd.DataFrame({'_team.name': [], 'author.login': []})\n",
    "\n",
    "teams_out = ipywidgets.Output()\n",
    "def parse_teams(button_param):\n",
    "    teams.drop(teams.index, inplace=True)  # Clear rows of dataframe\n",
    "    for hbox in team_inputs.children:\n",
    "        if hbox.children[0].value != '': # Don't include teams with empty name\n",
    "            for login in hbox.children[1].value.split(','):\n",
    "                teams.loc[len(teams)] = [hbox.children[0].value, login]\n",
    "    with teams_out:\n",
    "        teams_out.clear_output(wait=True)\n",
    "        display.display(teams)\n",
    "\n",
    "def add_t_input_row(param):\n",
    "    n = ipywidgets.Text(value=f\"Team {len(team_inputs.children)+1}\", placeholder='Team Name', description='Team Name:')\n",
    "    m = ipywidgets.Text(placeholder='Comma-separated GitHub users', description='Members:')\n",
    "    team_inputs.children += (ipywidgets.HBox([n,m]),)\n",
    "    n.observe(parse_teams, names='value')\n",
    "    m.observe(parse_teams, names='value')\n",
    "    parse_teams(None)\n",
    "\n",
    "add_t_btn = ipywidgets.Button(description='Add Team', button_style='success', icon='plus')\n",
    "add_t_btn.on_click(add_t_input_row)\n",
    "add_t_input_row(None)\n",
    "\n",
    "display.display(ipywidgets.Label(value='Teams to be used in analyses:'))\n",
    "display.display(add_t_btn)\n",
    "display.display(team_inputs)\n",
    "display.display(ipywidgets.HBox([teams_out, sprint_out]))\n",
    "\n",
    "#CL DefineDan,janiswehen,johannaschlimme,konrad-gerlach,richartkeil,TimRiedel,TonyBodo\n",
    "#FN gwauge,Arkinul,MatthiasCr,MaxSpeer,Pungitius,Glitterrosie,simon-weissmueller"
   ]
  },
  {
   "cell_type": "code",
   "execution_count": null,
   "metadata": {
    "tags": []
   },
   "outputs": [],
   "source": [
    "def assign_to_sprint(row):\n",
    "    for i, sprint in sprints.iterrows():\n",
    "        if sprint['start'] <= row['_date'] < sprint['end']:\n",
    "            return sprint['name'], sprint['start'], sprint['end']\n",
    "    return np.nan, np.nan, np.nan\n",
    "\n",
    "cs[['_sprint.name', '_sprint.start', '_sprint.end']] = cs.apply(assign_to_sprint, axis='columns', result_type=\"expand\")\n",
    "cst = pd.merge(cs, teams, how='left', on='author.login')\n",
    "\n",
    "sprint_commits = cst.groupby(['_sprint.name', '_sprint.start', '_sprint.end']).size().reset_index(name='count')\n",
    "fig = px.timeline(sprint_commits, x_start=\"_sprint.start\", x_end=\"_sprint.end\", y=\"_sprint.name\", color=\"_sprint.name\", text='count', title='Iteration timeline and total number of commits')\n",
    "fig.show()"
   ]
  },
  {
   "cell_type": "code",
   "execution_count": null,
   "metadata": {
    "tags": []
   },
   "outputs": [],
   "source": [
    "# outer join includes authors w/o commits\n",
    "counts = pd.merge(cs, teams, how='outer', on='author.login') \\\n",
    "    .fillna({'_team.name':'unassigned'}) \\\n",
    "    .groupby(['_team.name','author.login'], as_index=False) \\\n",
    "    .count().rename(columns = {'sha':'count'}) \\\n",
    "    .sort_values(by=['count'], ascending=False)\n",
    "# counts[['_team.name','author.login','count']]\n",
    "\n",
    "fig = px.bar(counts, x='count', y='author.login', color='_team.name', orientation='h', title='Commit counts by teams', color_discrete_map={'unassigned': 'lightgrey'})\n",
    "fig.update_layout(\n",
    "    xaxis_title=f\"Total non-merge commits by authors from {cst['_date'].min().date()} to {cst['_date'].max().date()}\",\n",
    "    yaxis_title=\"GitHub Login\",\n",
    "    height=20*counts['author.login'].nunique()\n",
    ")\n",
    "fig.show()"
   ]
  },
  {
   "cell_type": "code",
   "execution_count": null,
   "metadata": {
    "tags": []
   },
   "outputs": [],
   "source": [
    "by_sprint = cst.groupby(['_team.name', '_sprint.name']).size().reset_index(name='count')\n",
    "fig = px.bar(by_sprint, x=\"_sprint.name\", y=\"count\", color=\"_team.name\", title='None-merge commit counts by iteration', text_auto=True)\n",
    "fig.show()\n",
    "\n",
    "by_week = cst.groupby('_team.name').resample('W-Mon', on='_date').size().reset_index(name='count')\n",
    "fig = px.bar(by_week, x=\"_date\", y=\"count\", color=\"_team.name\", title='None-merge commit counts by week')\n",
    "fig.show()\n",
    "\n",
    "by_date = cst.groupby('_team.name').resample('D', on='_date').size().reset_index(name='count')\n",
    "fig = px.bar(by_date, x=\"_date\", y=\"count\", color=\"_team.name\", title='None-merge commit counts by day')\n",
    "fig.show()"
   ]
  },
  {
   "cell_type": "code",
   "execution_count": null,
   "metadata": {
    "tags": []
   },
   "outputs": [],
   "source": [
    "def time_of_day(row):\n",
    "    hour = row['_date'].hour\n",
    "    if hour <= 7 or hour >= 23:\n",
    "        return 'Night (23-7)'\n",
    "    elif hour <= 12:\n",
    "        return 'Morning (7-12)'\n",
    "        print('morning')\n",
    "    elif hour <= 17:\n",
    "        return 'Afternoon (12-17)'\n",
    "        print('after')\n",
    "    else:\n",
    "        return 'Evening (17-23)'\n",
    "\n",
    "cst['_time.desc'] = cst.apply(time_of_day, axis='columns')"
   ]
  },
  {
   "cell_type": "code",
   "execution_count": null,
   "metadata": {
    "tags": []
   },
   "outputs": [],
   "source": [
    "def time_of_day(date):\n",
    "    hour = date.hour\n",
    "    if hour <= 7 or hour >= 23:\n",
    "        return 0 # \"night\"\n",
    "    elif hour <= 12:\n",
    "        return 1 # \"morning\"\n",
    "    elif hour <= 17:\n",
    "        return 2 # \"afternoon\"\n",
    "    else:\n",
    "        return 3 # \"evening\"\n",
    "\n",
    "def commit_heatmap(team=None, sprint=None):\n",
    "    data = cst[~cst['_date'].isna()]\n",
    "    if team:\n",
    "        data = data.loc[data['_team.name'] == team]\n",
    "    if sprint:\n",
    "        data = data.loc[data['_sprint.name'] == sprint]\n",
    "    \n",
    "    fig_params = [\n",
    "        {'x': data['_date'].dt.hour,\n",
    "         'nbinsx': 24,\n",
    "         'xaxis_title': 'Hour',\n",
    "         'xaxis_tickvals': np.arange(0, 24, 1),\n",
    "         'xaxis_ticktext': np.arange(0, 24, 1)},\n",
    "        {'x': [time_of_day(d) for d in data['_date']],\n",
    "         'nbinsx': 4,\n",
    "         'xaxis_title': 'Time of Day',\n",
    "         'xaxis_tickvals': np.arange(0, 4),\n",
    "         'xaxis_ticktext': ['Night (23-7)', 'Morning (7-12)', 'Afternoon (12-17)', 'Evening (17-23)']}\n",
    "    ]\n",
    "\n",
    "    sub_tabs = []\n",
    "    for i, params in enumerate(fig_params):\n",
    "        fig = px.density_heatmap(\n",
    "            x=params['x'],\n",
    "            y=[d.weekday() for d in data['_date']],\n",
    "            nbinsx=params['nbinsx'],\n",
    "            nbinsy=7,\n",
    "            histfunc='count',\n",
    "            text_auto=True,\n",
    "            marginal_x='histogram',\n",
    "            marginal_y='histogram')\n",
    "        fig.update_layout(\n",
    "            title=f\"Commit heatmap of '{team if team else 'All'}' for time '{sprint if sprint else 'All'}'\",\n",
    "            xaxis=dict(\n",
    "                title = params['xaxis_title'],\n",
    "                tickvals = params['xaxis_tickvals'],\n",
    "                ticktext = params['xaxis_ticktext']\n",
    "            ),\n",
    "            yaxis=dict(\n",
    "                title = 'Day of the week',\n",
    "                tickvals = np.arange(0, 7),\n",
    "                ticktext = ['Monday', 'Tuesday', 'Wednesday', 'Thursday', 'Friday', 'Saturday', 'Sunday']\n",
    "            ))\n",
    "        out = ipywidgets.Output()\n",
    "        with out:\n",
    "            fig.show()\n",
    "            sub_tabs.append(out)\n",
    "\n",
    "    tab = ipywidgets.Tab(children=sub_tabs, titles=['By hour', 'By time of day'])\n",
    "    display.display(tab)\n",
    "\n",
    "out = ipywidgets.interactive(\n",
    "    commit_heatmap,\n",
    "    team=[('All', None)] + [(n, n) for n in cst['_team.name'].dropna().unique()],\n",
    "    sprint=[('All', None)] + [(n, n) for n in cst['_sprint.name'].dropna().unique()])\n",
    "display.display(out)"
   ]
  },
  {
   "cell_type": "code",
   "execution_count": null,
   "metadata": {},
   "outputs": [],
   "source": []
  }
 ],
 "metadata": {
  "kernelspec": {
   "display_name": "Python 3 (ipykernel)",
   "language": "python",
   "name": "python3"
  },
  "language_info": {
   "codemirror_mode": {
    "name": "ipython",
    "version": 3
   },
   "file_extension": ".py",
   "mimetype": "text/x-python",
   "name": "python",
   "nbconvert_exporter": "python",
   "pygments_lexer": "ipython3",
   "version": "3.9.16"
  },
  "vscode": {
   "interpreter": {
    "hash": "067b78e4a44e8b0a0f6f4f23266782a314d21c0d58909bd8030b6a0c0eed9a04"
   }
  }
 },
 "nbformat": 4,
 "nbformat_minor": 4
}
