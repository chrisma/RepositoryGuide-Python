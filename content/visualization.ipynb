{
	"cells": [
		{
			"attachments": {},
			"cell_type": "markdown",
			"metadata": {},
			"source": [
				"This notebook is responsible for visualizing the data from the Github API, which should be provided in a serialized format.\n",
				"\n",
				"It must be possible to run this notebook using jupyterlite.\n",
				"\n",
				"If you do not see the newest version of the notebook, you have to \"delete\" it in your jupyterlite instance, as your local version is overriding the remote version provided by the deployment."
			]
		},
		{
			"attachments": {},
			"cell_type": "markdown",
			"metadata": {},
			"source": [
				"(jupyterlite) We need to manually install dependencies for the front-end, even though they are also defined in the `requirements.txt`."
			]
		},
		{
			"attachments": {},
			"cell_type": "markdown",
			"metadata": {},
			"source": [
				"### Troubleshooting:\n",
				"\n",
				"#### Even after reloading (deep-refreshing) the page, a notebook is not updated\n",
				"\n",
				"This likely occurred because the backend and frontend of jupyterlite are out of sync.\n",
				"I am not yet sure why this happens even after a deep-refresh of the page, as this should update the frontend according to the jupyterlite documentation.\n",
				"As a workaround, delete the cache/cookies for the page and reload it.\n",
				"Note that you this will reset all notebooks to their versions saved on Github, so download your notebooks if necessary.\n",
				"You will also have to re-run the notebooks.\n",
				"\n",
				"An additional necessary step may be to \"delete\" the files in question in jupyterlite, which should refresh them with the version on Github.\n",
				"\n",
				"#### The `commits.json` cannot be found when loading\n",
				"\n",
				"Same reasoning & workaround as above."
			]
		},
		{
			"cell_type": "code",
			"execution_count": null,
			"metadata": {},
			"outputs": [],
			"source": [
				"%pip install plotly ipywidgets"
			]
		},
		{
			"cell_type": "code",
			"execution_count": 85,
			"metadata": {
				"trusted": true
			},
			"outputs": [],
			"source": [
				"import json\n",
				"import datetime\n",
				"import numpy as np\n",
				"import plotly\n",
				"import plotly.express as px\n",
				"import ipywidgets\n",
				"from IPython import display"
			]
		},
		{
			"cell_type": "code",
			"execution_count": 3,
			"metadata": {},
			"outputs": [],
			"source": [
				"# Read the commit data from the 'commits.json'\n",
				"with open('commits.json') as f:\n",
				"\tcommits_including_merges = json.load(f)"
			]
		},
		{
			"cell_type": "code",
			"execution_count": 4,
			"metadata": {},
			"outputs": [],
			"source": [
				"# Convert all the commit dates to datetime objects within the commit for easier handling later on\n",
				"for commit in commits_including_merges:\n",
				"\tcommit['commit']['author']['date'] = datetime.datetime.strptime(commit['commit']['author']['date'], '%Y-%m-%dT%H:%M:%SZ')"
			]
		},
		{
			"cell_type": "code",
			"execution_count": 5,
			"metadata": {},
			"outputs": [
				{
					"name": "stdout",
					"output_type": "stream",
					"text": [
						"There are a total of 1007 commits in the repository, of which 712 are not merge commits.\n"
					]
				}
			],
			"source": [
				"# Exclude merge commits, i.e. commits with more than one parent\n",
				"commits = [commit for commit in commits_including_merges if len(commit['parents']) == 1]\n",
				"print(f'There are a total of {len(commits_including_merges)} commits in the repository, of which {len(commits)} are not merge commits.')"
			]
		},
		{
			"cell_type": "code",
			"execution_count": 6,
			"metadata": {},
			"outputs": [],
			"source": [
				"# Exclude commits without an \"author\" object\n",
				"# e.g. sha 9a650be18f07d01a55d1c77d55f74dde7b24eb55 (in our test case, there are number of commits with \"author: null\" or \"author: {}\"\")\n",
				"commits = [commit for commit in commits if (commit['author'] and len(commit['author']) > 0)]"
			]
		},
		{
			"attachments": {},
			"cell_type": "markdown",
			"metadata": {},
			"source": [
				"This cell handles the number and date ranges of your sprints.\n",
				"Use the slider to change the number of sprints, and then use the text field and date picker to set a custom name and date range for each sprint.\n",
				"The number of displayed date pickers will change automatically when changing the number of sprints.\n",
				"Names and dates for \"removed\" sprints will be kept, but not displayed."
			]
		},
		{
			"cell_type": "code",
			"execution_count": 7,
			"metadata": {},
			"outputs": [
				{
					"data": {
						"application/vnd.jupyter.widget-view+json": {
							"model_id": "3352fb4827b44bf19d8ece6ad194bc1f",
							"version_major": 2,
							"version_minor": 0
						},
						"text/plain": [
							"Output(outputs=({'output_type': 'display_data', 'data': {'text/plain': \"IntSlider(value=1, description='No. of…"
						]
					},
					"metadata": {},
					"output_type": "display_data"
				}
			],
			"source": [
				"# Setting up the number & date ranges of sprints\n",
				"num_sprints_output = ipywidgets.Output()\n",
				"\n",
				"num_sprints = ipywidgets.IntSlider(min=1, max=10, step=1, description='No. of sprints')\n",
				"\n",
				"num_sprints_output.append_display_data(num_sprints)\n",
				"num_sprints_output.append_stdout('Set a name and the start and end dates for each sprint below:')\n",
				"\n",
				"sprint_names = []\n",
				"start_dates = []\n",
				"end_dates = []\n",
				"\n",
				"# Initialize the widgets for the first sprint\n",
				"sprint_names.append(ipywidgets.Text(value=f'Sprint 1', placeholder='Set the name for this Sprint', description='Sprint Name:'))\n",
				"start_dates.append(ipywidgets.DatePicker(description='Start Date'))\n",
				"end_dates.append(ipywidgets.DatePicker(description='End Date'))\n",
				"num_sprints_output.append_display_data(sprint_names[0])\n",
				"num_sprints_output.append_display_data(start_dates[0])\n",
				"num_sprints_output.append_display_data(end_dates[0])\n",
				"\n",
				"# Automatically add/remove the widgets based on the number of sprints\n",
				"def update_sprints(change):\n",
				"\tif change['type'] == 'change' and change['name'] == 'value':\n",
				"\t\tif change['new'] > change['old']:\n",
				"\t\t\t# Only add a new widget if we do not have one with this \"number\" already\n",
				"\t\t\tif len(sprint_names) < change['new']:\n",
				"\t\t\t\tsprint_names.append(ipywidgets.Text(value=f'Sprint {change[\"new\"]}', placeholder='Set the name for this Sprint', description='Sprint Name:'))\n",
				"\t\t\t\tstart_dates.append(ipywidgets.DatePicker(description='Start Date'))\n",
				"\t\t\t\tend_dates.append(ipywidgets.DatePicker(description='End Date'))\n",
				"\t\t\t# Display the necessary widgets for the new sprint\n",
				"\t\t\tnum_sprints_output.append_display_data(sprint_names[change[\"new\"] - 1])\n",
				"\t\t\tnum_sprints_output.append_display_data(start_dates[change[\"new\"] - 1])\n",
				"\t\t\tnum_sprints_output.append_display_data(end_dates[change[\"new\"] - 1])\n",
				"\t\telif change['new'] < change['old']:\n",
				"\t\t\t# Remove the widgets for the removed sprint (workaround, as clear_output() will not work here, as we are using append_display_data() instead of the 'with out:' syntax)\n",
				"\t\t\tnum_sprints_output.outputs = num_sprints_output.outputs[:-3]\n",
				"\n",
				"num_sprints.observe(update_sprints, names='value')\n",
				"\n",
				"display.display(num_sprints_output)"
			]
		},
		{
			"attachments": {},
			"cell_type": "markdown",
			"metadata": {},
			"source": [
				"This cell handles setting up teams and team members.\n",
				"\n",
				"Disclaimer: The Github API does not always return the username of the author of a commit, but rather the name of the author.\n",
				"This has to do with the various ways one can commit to Github, e.g. by using the Github website itself, the username will not be displayed. \n",
				"So, in its current form, the heatmap generated will not always include all commits by all team members."
			]
		},
		{
			"cell_type": "code",
			"execution_count": 8,
			"metadata": {},
			"outputs": [
				{
					"data": {
						"application/vnd.jupyter.widget-view+json": {
							"model_id": "97c81e707aaf49e49d4281e7135a5439",
							"version_major": 2,
							"version_minor": 0
						},
						"text/plain": [
							"Output(outputs=({'output_type': 'display_data', 'data': {'text/plain': \"IntSlider(value=1, description='No. of…"
						]
					},
					"metadata": {},
					"output_type": "display_data"
				}
			],
			"source": [
				"teams_output = ipywidgets.Output()\n",
				"\n",
				"num_teams = ipywidgets.IntSlider(min=1, max=10, step=1, description='No. of teams')\n",
				"\n",
				"teams_output.append_display_data(num_teams)\n",
				"teams_output.append_stdout('For each team, set a name and upload a JSON file with an Array of team member names below (more formats to follow):')\n",
				"\n",
				"team_names = []\n",
				"team_files = []\n",
				"team_members = []\n",
				"\n",
				"# Handler for the file upload widgets\n",
				"def handle_upload(change):\n",
				"\t# Only handle the upload if the file is not empty\n",
				"\tif change['new']:\n",
				"\t\t# Get the team index from the name of the widget\n",
				"\t\tteam_index = int(change['owner'].description.split(' ')[2]) - 1\n",
				"\t\t# Get the file name and content\n",
				"\t\tuploaded_file = next(iter(team_files[team_index].value))\n",
				"\t\twith open(uploaded_file.name, 'wb') as f:\n",
				"\t\t\tf.write(uploaded_file.content)\n",
				"\t\twith open(uploaded_file.name) as f:\n",
				"\t\t\tteam_members[team_index] = json.load(f)\n",
				"\t\tprint(f'Uploaded file {uploaded_file.name} for team {team_names[i].value}')\n",
				"\t\t# Print the team members\n",
				"\t\tprint(f'Team members:')\n",
				"\t\tprint(\"\\n\".join(team_members[team_index]))\n",
				"\t\tprint()\n",
				"\n",
				"# Initialize the widgets for the first team\n",
				"team_names.append(ipywidgets.Text(value=f'Team 1', placeholder='Set the name for this Team', description='Team Name:'))\n",
				"team_files.append(ipywidgets.FileUpload(description=f'Upload Team 1', accept='.json'))\n",
				"team_members.append([])\n",
				"teams_output.append_display_data(team_names[0])\n",
				"teams_output.append_display_data(team_files[0])\n",
				"\n",
				"# Register the upload handler for the first team\n",
				"team_files[0].observe(handle_upload, names='value')\n",
				"\n",
				"# Automatically add/remove the widgets based on the number of teams\n",
				"def update_teams(change):\n",
				"\tif change['type'] == 'change' and change['name'] == 'value':\n",
				"\t\tif change['new'] > change['old']:\n",
				"\t\t\t# Only add a new widget if we do not have one with this \"number\" already\n",
				"\t\t\tif len(team_names) < change['new']:\n",
				"\t\t\t\tteam_names.append(ipywidgets.Text(value=f'Team {change[\"new\"]}', placeholder='Set the name for this Team', description='Team Name:'))\n",
				"\t\t\t\tteam_files.append(ipywidgets.FileUpload(description=f'Upload Team {change[\"new\"]}', accept='.json'))\n",
				"\t\t\t\tteam_members.append([])\n",
				"\t\t\t\t# Register the upload handler for the new team\n",
				"\t\t\t\tteam_files[-1].observe(handle_upload, names='value')\n",
				"\t\t\t# Display the necessary widgets for the new team\n",
				"\t\t\tteams_output.append_display_data(team_names[change[\"new\"] - 1])\n",
				"\t\t\tteams_output.append_display_data(team_files[change[\"new\"] - 1])\n",
				"\t\telif change['new'] < change['old']:\n",
				"\t\t\t# Remove the widgets for the removed team (workaround, as clear_output() will not work here, as we are using append_display_data() instead of the 'with out:' syntax)\n",
				"\t\t\tteams_output.outputs = teams_output.outputs[:-2]\n",
				"\n",
				"num_teams.observe(update_teams, names='value')\n",
				"\n",
				"display.display(teams_output)"
			]
		},
		{
			"cell_type": "code",
			"execution_count": 9,
			"metadata": {},
			"outputs": [],
			"source": [
				"# Only for local use in VSCode, as the upload widget does not work there:\n",
				"class MockFileUpload:\n",
				"    def __init__(self, value):\n",
				"        self.value = value\n",
				"\n",
				"team_names = [\n",
				"    MockFileUpload(\"Team AP\"),\n",
				"    MockFileUpload(\"Team FN\")\n",
				"]\n",
				"\n",
				"team_members = [\n",
				"    [\n",
				"\t\t\"A-Persitzky\",\n",
				"\t\t\"antonykamp\",\n",
				"\t\t\"CR1337\",\n",
				"\t\t\"LucasDerReisende\",\n",
				"\t\t\"SaturnHafen\",\n",
				"\t\t\"Lietze\"\n",
				"    ], \n",
				"    [\n",
				"\t\t\"gwauge\",\n",
				"\t\t\"Arkinul\",\n",
				"\t\t\"MatthiasCr\",\n",
				"\t\t\"MaxSpeer\",\n",
				"\t\t\"Punguitius\",\n",
				"\t\t\"Glitterrosie\",\n",
				"\t\t\"simon-weissmueller\"\n",
				"    ]\n",
				"]"
			]
		},
		{
			"attachments": {},
			"cell_type": "markdown",
			"metadata": {},
			"source": [
				"This cell contains the logic for the commit heatmap.\n",
				"For a given time interval, the number of commits per day and hour of the day is displayed in a heatmap."
			]
		},
		{
			"cell_type": "code",
			"execution_count": 110,
			"metadata": {},
			"outputs": [],
			"source": [
				"def get_time_of_day(date):\n",
				"\t# Get the hour of the day\n",
				"\thour = date.hour\n",
				"\t# Return the time of day\n",
				"\tif hour <= 7 or hour >= 22:\n",
				"\t\treturn 0 # \"night\"\n",
				"\telif hour <= 12:\n",
				"\t\treturn 1 # \"morning\"\n",
				"\telif hour <= 17:\n",
				"\t\treturn 2 # \"afternoon\"\n",
				"\telse:\n",
				"\t\treturn 3 # \"evening\"\n",
				"\n",
				"# Plot a heatmap for the commit timings\n",
				"def plot_commit_heatmap(commits, team_members=None, start_date=None, end_date=None, time_mode=\"time_of_day\"):\n",
				"\t# Convert start and and dates to datetime objects\n",
				"\tif start_date is not None:\n",
				"\t\tstart_date = datetime.datetime.combine(start_date, datetime.datetime.min.time())\n",
				"\tif end_date is not None:\n",
				"\t\tend_date = datetime.datetime.combine(end_date, datetime.datetime.max.time())\n",
				"\n",
				"\t# Only include commits authored by one of the team members\n",
				"\tif team_members is not None:\n",
				"\t\tcommit_dates = [commit['commit']['author']['date'] for commit in commits if (commit['author']['login'] in team_members)]\n",
				"\telse:\n",
				"\t\tcommit_dates = [commit['commit']['author']['date'] for commit in commits]\n",
				"\t\n",
				"\t# Filter the dates to only include those between the start and end dates\n",
				"\tcommit_dates = [date for date in commit_dates if (start_date is None or date >= start_date) and (end_date is None or date <= end_date)]\n",
				"\n",
				"\t# Get the day of each commit\n",
				"\tdays = [date.weekday() for date in commit_dates]\n",
				"\n",
				"\t# Depending on the time_mode, get the hour or time of day for each commit\n",
				"\tif time_mode == 'hour':\n",
				"\t\tx_vals = [date.hour for date in commit_dates]\n",
				"\t\tx_axis_title = 'Hour of the day'\n",
				"\t\tx_axis_tick_vals = np.arange(0, 24, 2)\n",
				"\t\tx_axis_tick_text = np.arange(0, 24, 2)\n",
				"\t\tx_bins = 24\n",
				"\telif time_mode == 'time_of_day':\n",
				"\t\tx_vals = [get_time_of_day(date) for date in commit_dates]\n",
				"\t\tx_axis_title = 'Time of day'\n",
				"\t\tx_axis_tick_vals = np.arange(0, 4)\n",
				"\t\tx_axis_tick_text = ['Night (22-7)', 'Morning (7-12)', 'Afternoon (12-17)', 'Evening (17-22)']\n",
				"\t\tx_bins = 4\n",
				"\t\n",
				"\t# Create a plotly heatmap\n",
				"\tfig = px.density_heatmap(x=x_vals, y=days, nbinsx=x_bins, nbinsy=7, histfunc='count', color_continuous_scale='oranges')\n",
				"\n",
				"\t# Set y axis labels\n",
				"\tfig.update_yaxes(tickvals=np.arange(0, 7), ticktext=['Monday', 'Tuesday', 'Wednesday', 'Thursday', 'Friday', 'Saturday', 'Sunday'])\n",
				"\n",
				"\t# Set the title and axis labels\n",
				"\tfig.update_layout(title='Commit timings', xaxis_title=x_axis_title, yaxis_title='Day of the week', xaxis_tickvals=x_axis_tick_vals, xaxis_ticktext=x_axis_tick_text)\n",
				"\n",
				"\treturn fig"
			]
		},
		{
			"attachments": {},
			"cell_type": "markdown",
			"metadata": {},
			"source": [
				"This cell handles the display of the heatmap for the given sprints.\n",
				"Only one heatmap is displayed at a time, the sprint, team and \"time-mode\" for which this is done can be selected using the dropdown menus.\n",
				"If you change the date ranges of the sprints, you *do not* have to re-run this cell.\n",
				"However, you do need to re-run the cell if you have changed the number of sprints, as this is not currently handled automatically."
			]
		},
		{
			"cell_type": "code",
			"execution_count": 111,
			"metadata": {},
			"outputs": [
				{
					"data": {
						"application/vnd.jupyter.widget-view+json": {
							"model_id": "3109b35823d7464c8056daa880ac6398",
							"version_major": 2,
							"version_minor": 0
						},
						"text/plain": [
							"Dropdown(description='Sprint:', options=(('Sprint 1', 0), ('Sprint 2', 1)), value=0)"
						]
					},
					"metadata": {},
					"output_type": "display_data"
				},
				{
					"data": {
						"application/vnd.jupyter.widget-view+json": {
							"model_id": "e1ff396cc6b4436abaa140622811b7df",
							"version_major": 2,
							"version_minor": 0
						},
						"text/plain": [
							"Dropdown(description='Team:', options=(('All Authors', -1), ('Team AP', 0)), value=-1)"
						]
					},
					"metadata": {},
					"output_type": "display_data"
				},
				{
					"data": {
						"application/vnd.jupyter.widget-view+json": {
							"model_id": "b04ba999d7c7453d8219b9a63c3259b6",
							"version_major": 2,
							"version_minor": 0
						},
						"text/plain": [
							"Dropdown(description='Time mode:', options=(('Hour of the day', 'hour'), ('Time of day', 'time_of_day')), valu…"
						]
					},
					"metadata": {},
					"output_type": "display_data"
				},
				{
					"data": {
						"application/vnd.plotly.v1+json": {
							"config": {
								"plotlyServerURL": "https://plot.ly"
							},
							"data": [
								{
									"coloraxis": "coloraxis",
									"histfunc": "count",
									"hovertemplate": "x=%{x}<br>y=%{y}<br>count=%{z}<extra></extra>",
									"name": "",
									"nbinsx": 24,
									"nbinsy": 7,
									"type": "histogram2d",
									"x": [
										16,
										17,
										16,
										14,
										11,
										22,
										21,
										21,
										20,
										20,
										20,
										19,
										19,
										20,
										20,
										20,
										20,
										19,
										19,
										14,
										13,
										12,
										10,
										14,
										14,
										13,
										22,
										22,
										22,
										12,
										22,
										21,
										20,
										19,
										19,
										19,
										18,
										18,
										14,
										16,
										15,
										13,
										12,
										16,
										14,
										13,
										12,
										15,
										15,
										15,
										13,
										13,
										18,
										17,
										21,
										17,
										16,
										15,
										15,
										14,
										14,
										13,
										12,
										10,
										10,
										10,
										8,
										8,
										9,
										22,
										18,
										18,
										17,
										21,
										21,
										21,
										20,
										20,
										14,
										14,
										13,
										11,
										9,
										8,
										8,
										8,
										11,
										10,
										9,
										22,
										18,
										16,
										16,
										16,
										15,
										14,
										16,
										13,
										12,
										17,
										16,
										16,
										16,
										16,
										15,
										14,
										14,
										14,
										13,
										10,
										10,
										10,
										16,
										16,
										16,
										18,
										18,
										18,
										14,
										13,
										13,
										22,
										11,
										14,
										12,
										11,
										11,
										11,
										11,
										10,
										14,
										9,
										9,
										11,
										16,
										11,
										11,
										11,
										11,
										11,
										10,
										23,
										16,
										15,
										15,
										14,
										14,
										14,
										13,
										13,
										13,
										13,
										16,
										14,
										15,
										14,
										14,
										14,
										14,
										14,
										13,
										9,
										19,
										18,
										18,
										17,
										17,
										15,
										15,
										14,
										14,
										14,
										13,
										14,
										13,
										14,
										14,
										13,
										13,
										13,
										12,
										12,
										12,
										9,
										9,
										9,
										9,
										21,
										20,
										20,
										17,
										17,
										13,
										13,
										16,
										14,
										14,
										14,
										14,
										13,
										13,
										13,
										13,
										13,
										17,
										13,
										12,
										12,
										23,
										18,
										17,
										15,
										14,
										8,
										21,
										21,
										20,
										18,
										16,
										16,
										14,
										14,
										14,
										13,
										13,
										13,
										9,
										22,
										17,
										15,
										14,
										13,
										13,
										13,
										13,
										11,
										18,
										18,
										18,
										18,
										18,
										17,
										17,
										14,
										14,
										13,
										13,
										12,
										14,
										13,
										13,
										0,
										17,
										23,
										1,
										1,
										18,
										17,
										17,
										9,
										9,
										13,
										12,
										12,
										12,
										12,
										16,
										16,
										15,
										15,
										15,
										15,
										15,
										15,
										14,
										14,
										10,
										9,
										9,
										9,
										8,
										15,
										15,
										12,
										11,
										21,
										21,
										21,
										15,
										14,
										13,
										13,
										14,
										10,
										10,
										23,
										19,
										19,
										19,
										18,
										14,
										14,
										21,
										19,
										15,
										15,
										15,
										15,
										15,
										15,
										14,
										15,
										15,
										14,
										13,
										12,
										12,
										13,
										13,
										13,
										13,
										13,
										13,
										12,
										11,
										10,
										19,
										19,
										10,
										10,
										14,
										18,
										17,
										17,
										11,
										11,
										11,
										11,
										11,
										10,
										9,
										10,
										10,
										10,
										16,
										16,
										15,
										20,
										13,
										11,
										14,
										14,
										13,
										13,
										13,
										13,
										12,
										12,
										12,
										12,
										11,
										21,
										9,
										9,
										9,
										22,
										14,
										13,
										11,
										11,
										18,
										15,
										14,
										13,
										19,
										12,
										9,
										9,
										10,
										16,
										15,
										13,
										13,
										13,
										13,
										13,
										13,
										12,
										12,
										12,
										11,
										11,
										17,
										13,
										13,
										13,
										13,
										13,
										13,
										13,
										13,
										12,
										13,
										13,
										12,
										17,
										17,
										15,
										15,
										10,
										10,
										9,
										20,
										19,
										18,
										19,
										17,
										17,
										17,
										16,
										16,
										14,
										14,
										13,
										13,
										12,
										11,
										11,
										12,
										12,
										12,
										11,
										11,
										11,
										11,
										10,
										10,
										9,
										22,
										22,
										21,
										21,
										21,
										21,
										18,
										17,
										17,
										17,
										17,
										17,
										17,
										17,
										16,
										16,
										16,
										16,
										14,
										14,
										12,
										22,
										22,
										22,
										22,
										22,
										15,
										15,
										15,
										15,
										14,
										13,
										12,
										11,
										11,
										9,
										20,
										19,
										15,
										14,
										13,
										20,
										19,
										19,
										19,
										12,
										11,
										10,
										19,
										16,
										14,
										14,
										13,
										11,
										0,
										17,
										17,
										13,
										13,
										13,
										21,
										21,
										20,
										17,
										17,
										19,
										19,
										16,
										15,
										15,
										15,
										15,
										14,
										14,
										23,
										23,
										18,
										15,
										15,
										14,
										14,
										14,
										14,
										13,
										9,
										9,
										9,
										8,
										22,
										22,
										22,
										22,
										20,
										17,
										17,
										16,
										15,
										14,
										13,
										12,
										10,
										9,
										20,
										14,
										13,
										16,
										16,
										16,
										16,
										15,
										15,
										15,
										15,
										14,
										14,
										13,
										13,
										13,
										12,
										8,
										8,
										8,
										8,
										16,
										14,
										14,
										14,
										13,
										13,
										13,
										13,
										13,
										13,
										13,
										13,
										13,
										13,
										12,
										12,
										10,
										10,
										10,
										19,
										19,
										19,
										15,
										15,
										15,
										14,
										14,
										14,
										14,
										11,
										12,
										12,
										11,
										11,
										11,
										10,
										10,
										19,
										17,
										15,
										15,
										13,
										12,
										12,
										12,
										11,
										11,
										11,
										10,
										12,
										21,
										21,
										12,
										18,
										17,
										14,
										18,
										18,
										12,
										11,
										9,
										9,
										21,
										12,
										13,
										13,
										19,
										19,
										15,
										15,
										15,
										10,
										10,
										10,
										10,
										10,
										9,
										9,
										22,
										17,
										15,
										15,
										13,
										17,
										11,
										11,
										22,
										22,
										22,
										18,
										17,
										14,
										14,
										14,
										14,
										13,
										21,
										9,
										16
									],
									"xaxis": "x",
									"xbingroup": "x",
									"y": [
										5,
										4,
										4,
										4,
										4,
										3,
										3,
										3,
										3,
										3,
										3,
										3,
										3,
										3,
										3,
										3,
										3,
										3,
										3,
										3,
										3,
										3,
										3,
										3,
										3,
										3,
										2,
										2,
										2,
										3,
										2,
										2,
										2,
										2,
										2,
										2,
										2,
										2,
										2,
										2,
										2,
										2,
										2,
										1,
										2,
										2,
										2,
										1,
										1,
										1,
										1,
										1,
										0,
										0,
										1,
										1,
										1,
										1,
										1,
										1,
										1,
										1,
										1,
										0,
										0,
										0,
										1,
										1,
										4,
										0,
										0,
										0,
										0,
										0,
										0,
										0,
										0,
										0,
										0,
										0,
										0,
										0,
										0,
										0,
										0,
										0,
										2,
										2,
										2,
										6,
										6,
										6,
										6,
										6,
										6,
										6,
										5,
										4,
										4,
										3,
										3,
										3,
										3,
										3,
										3,
										3,
										3,
										3,
										3,
										3,
										3,
										3,
										2,
										2,
										2,
										2,
										2,
										2,
										1,
										2,
										2,
										1,
										0,
										2,
										2,
										2,
										2,
										2,
										2,
										2,
										0,
										0,
										0,
										1,
										0,
										0,
										0,
										0,
										0,
										0,
										0,
										6,
										6,
										6,
										6,
										6,
										6,
										6,
										6,
										6,
										6,
										6,
										4,
										4,
										4,
										4,
										4,
										4,
										4,
										4,
										4,
										4,
										3,
										3,
										3,
										3,
										3,
										3,
										3,
										3,
										3,
										3,
										3,
										3,
										3,
										3,
										3,
										3,
										3,
										3,
										3,
										3,
										3,
										3,
										3,
										3,
										3,
										2,
										2,
										2,
										2,
										2,
										2,
										2,
										2,
										2,
										2,
										2,
										2,
										2,
										2,
										2,
										2,
										2,
										1,
										0,
										0,
										2,
										1,
										1,
										1,
										1,
										1,
										1,
										0,
										0,
										0,
										0,
										0,
										0,
										0,
										0,
										0,
										0,
										0,
										0,
										0,
										6,
										6,
										6,
										6,
										6,
										6,
										6,
										6,
										6,
										5,
										5,
										5,
										5,
										5,
										5,
										5,
										5,
										5,
										5,
										5,
										5,
										4,
										4,
										4,
										4,
										0,
										6,
										4,
										4,
										3,
										3,
										3,
										2,
										2,
										3,
										3,
										3,
										3,
										3,
										2,
										2,
										2,
										2,
										2,
										2,
										2,
										2,
										2,
										2,
										2,
										2,
										2,
										2,
										2,
										1,
										1,
										1,
										1,
										0,
										0,
										0,
										0,
										0,
										6,
										0,
										0,
										0,
										0,
										6,
										6,
										6,
										6,
										2,
										6,
										6,
										5,
										5,
										5,
										5,
										5,
										5,
										5,
										5,
										5,
										1,
										4,
										4,
										3,
										3,
										3,
										4,
										4,
										4,
										4,
										4,
										4,
										4,
										4,
										4,
										3,
										3,
										2,
										2,
										3,
										3,
										3,
										3,
										3,
										3,
										3,
										3,
										3,
										3,
										3,
										3,
										3,
										3,
										2,
										2,
										2,
										6,
										6,
										4,
										2,
										2,
										2,
										2,
										2,
										2,
										2,
										2,
										2,
										2,
										2,
										0,
										2,
										2,
										1,
										5,
										5,
										5,
										5,
										5,
										4,
										4,
										3,
										3,
										2,
										1,
										1,
										1,
										1,
										0,
										0,
										0,
										0,
										0,
										0,
										0,
										0,
										0,
										0,
										0,
										0,
										0,
										4,
										6,
										1,
										1,
										1,
										1,
										1,
										1,
										1,
										1,
										0,
										0,
										0,
										5,
										5,
										4,
										4,
										4,
										4,
										3,
										2,
										2,
										2,
										2,
										2,
										2,
										2,
										2,
										2,
										2,
										2,
										2,
										2,
										2,
										2,
										2,
										2,
										2,
										2,
										2,
										2,
										2,
										2,
										2,
										2,
										2,
										1,
										1,
										1,
										1,
										1,
										1,
										1,
										1,
										1,
										1,
										1,
										1,
										1,
										1,
										1,
										1,
										1,
										1,
										1,
										1,
										1,
										0,
										0,
										0,
										0,
										0,
										0,
										0,
										0,
										0,
										0,
										0,
										0,
										0,
										0,
										0,
										6,
										6,
										6,
										6,
										6,
										5,
										5,
										5,
										5,
										5,
										5,
										5,
										5,
										5,
										4,
										4,
										0,
										4,
										4,
										3,
										3,
										3,
										3,
										3,
										2,
										2,
										2,
										5,
										2,
										5,
										5,
										3,
										3,
										3,
										3,
										3,
										3,
										3,
										2,
										2,
										2,
										2,
										2,
										2,
										2,
										2,
										2,
										2,
										2,
										2,
										2,
										2,
										1,
										1,
										1,
										1,
										1,
										1,
										1,
										1,
										0,
										0,
										0,
										0,
										0,
										0,
										6,
										5,
										5,
										4,
										4,
										4,
										4,
										4,
										4,
										4,
										4,
										4,
										4,
										2,
										2,
										2,
										3,
										3,
										3,
										3,
										3,
										2,
										2,
										2,
										2,
										2,
										2,
										2,
										2,
										2,
										2,
										2,
										2,
										2,
										2,
										2,
										2,
										2,
										2,
										2,
										1,
										1,
										1,
										1,
										1,
										1,
										1,
										1,
										1,
										1,
										1,
										1,
										1,
										1,
										1,
										1,
										1,
										1,
										0,
										0,
										0,
										0,
										0,
										0,
										0,
										0,
										0,
										0,
										0,
										0,
										6,
										6,
										6,
										6,
										5,
										5,
										5,
										4,
										4,
										4,
										4,
										4,
										4,
										3,
										3,
										2,
										2,
										1,
										1,
										1,
										1,
										1,
										1,
										1,
										1,
										1,
										1,
										1,
										1,
										0,
										0,
										0,
										0,
										0,
										5,
										5,
										5,
										4,
										4,
										4,
										4,
										4,
										2,
										2,
										2,
										2,
										2,
										0,
										0,
										4
									],
									"yaxis": "y",
									"ybingroup": "y"
								}
							],
							"layout": {
								"coloraxis": {
									"colorbar": {
										"title": {
											"text": "count"
										}
									},
									"colorscale": [
										[
											0,
											"rgb(255,245,235)"
										],
										[
											0.125,
											"rgb(254,230,206)"
										],
										[
											0.25,
											"rgb(253,208,162)"
										],
										[
											0.375,
											"rgb(253,174,107)"
										],
										[
											0.5,
											"rgb(253,141,60)"
										],
										[
											0.625,
											"rgb(241,105,19)"
										],
										[
											0.75,
											"rgb(217,72,1)"
										],
										[
											0.875,
											"rgb(166,54,3)"
										],
										[
											1,
											"rgb(127,39,4)"
										]
									]
								},
								"legend": {
									"tracegroupgap": 0
								},
								"margin": {
									"t": 60
								},
								"template": {
									"data": {
										"bar": [
											{
												"error_x": {
													"color": "#2a3f5f"
												},
												"error_y": {
													"color": "#2a3f5f"
												},
												"marker": {
													"line": {
														"color": "#E5ECF6",
														"width": 0.5
													},
													"pattern": {
														"fillmode": "overlay",
														"size": 10,
														"solidity": 0.2
													}
												},
												"type": "bar"
											}
										],
										"barpolar": [
											{
												"marker": {
													"line": {
														"color": "#E5ECF6",
														"width": 0.5
													},
													"pattern": {
														"fillmode": "overlay",
														"size": 10,
														"solidity": 0.2
													}
												},
												"type": "barpolar"
											}
										],
										"carpet": [
											{
												"aaxis": {
													"endlinecolor": "#2a3f5f",
													"gridcolor": "white",
													"linecolor": "white",
													"minorgridcolor": "white",
													"startlinecolor": "#2a3f5f"
												},
												"baxis": {
													"endlinecolor": "#2a3f5f",
													"gridcolor": "white",
													"linecolor": "white",
													"minorgridcolor": "white",
													"startlinecolor": "#2a3f5f"
												},
												"type": "carpet"
											}
										],
										"choropleth": [
											{
												"colorbar": {
													"outlinewidth": 0,
													"ticks": ""
												},
												"type": "choropleth"
											}
										],
										"contour": [
											{
												"colorbar": {
													"outlinewidth": 0,
													"ticks": ""
												},
												"colorscale": [
													[
														0,
														"#0d0887"
													],
													[
														0.1111111111111111,
														"#46039f"
													],
													[
														0.2222222222222222,
														"#7201a8"
													],
													[
														0.3333333333333333,
														"#9c179e"
													],
													[
														0.4444444444444444,
														"#bd3786"
													],
													[
														0.5555555555555556,
														"#d8576b"
													],
													[
														0.6666666666666666,
														"#ed7953"
													],
													[
														0.7777777777777778,
														"#fb9f3a"
													],
													[
														0.8888888888888888,
														"#fdca26"
													],
													[
														1,
														"#f0f921"
													]
												],
												"type": "contour"
											}
										],
										"contourcarpet": [
											{
												"colorbar": {
													"outlinewidth": 0,
													"ticks": ""
												},
												"type": "contourcarpet"
											}
										],
										"heatmap": [
											{
												"colorbar": {
													"outlinewidth": 0,
													"ticks": ""
												},
												"colorscale": [
													[
														0,
														"#0d0887"
													],
													[
														0.1111111111111111,
														"#46039f"
													],
													[
														0.2222222222222222,
														"#7201a8"
													],
													[
														0.3333333333333333,
														"#9c179e"
													],
													[
														0.4444444444444444,
														"#bd3786"
													],
													[
														0.5555555555555556,
														"#d8576b"
													],
													[
														0.6666666666666666,
														"#ed7953"
													],
													[
														0.7777777777777778,
														"#fb9f3a"
													],
													[
														0.8888888888888888,
														"#fdca26"
													],
													[
														1,
														"#f0f921"
													]
												],
												"type": "heatmap"
											}
										],
										"heatmapgl": [
											{
												"colorbar": {
													"outlinewidth": 0,
													"ticks": ""
												},
												"colorscale": [
													[
														0,
														"#0d0887"
													],
													[
														0.1111111111111111,
														"#46039f"
													],
													[
														0.2222222222222222,
														"#7201a8"
													],
													[
														0.3333333333333333,
														"#9c179e"
													],
													[
														0.4444444444444444,
														"#bd3786"
													],
													[
														0.5555555555555556,
														"#d8576b"
													],
													[
														0.6666666666666666,
														"#ed7953"
													],
													[
														0.7777777777777778,
														"#fb9f3a"
													],
													[
														0.8888888888888888,
														"#fdca26"
													],
													[
														1,
														"#f0f921"
													]
												],
												"type": "heatmapgl"
											}
										],
										"histogram": [
											{
												"marker": {
													"pattern": {
														"fillmode": "overlay",
														"size": 10,
														"solidity": 0.2
													}
												},
												"type": "histogram"
											}
										],
										"histogram2d": [
											{
												"colorbar": {
													"outlinewidth": 0,
													"ticks": ""
												},
												"colorscale": [
													[
														0,
														"#0d0887"
													],
													[
														0.1111111111111111,
														"#46039f"
													],
													[
														0.2222222222222222,
														"#7201a8"
													],
													[
														0.3333333333333333,
														"#9c179e"
													],
													[
														0.4444444444444444,
														"#bd3786"
													],
													[
														0.5555555555555556,
														"#d8576b"
													],
													[
														0.6666666666666666,
														"#ed7953"
													],
													[
														0.7777777777777778,
														"#fb9f3a"
													],
													[
														0.8888888888888888,
														"#fdca26"
													],
													[
														1,
														"#f0f921"
													]
												],
												"type": "histogram2d"
											}
										],
										"histogram2dcontour": [
											{
												"colorbar": {
													"outlinewidth": 0,
													"ticks": ""
												},
												"colorscale": [
													[
														0,
														"#0d0887"
													],
													[
														0.1111111111111111,
														"#46039f"
													],
													[
														0.2222222222222222,
														"#7201a8"
													],
													[
														0.3333333333333333,
														"#9c179e"
													],
													[
														0.4444444444444444,
														"#bd3786"
													],
													[
														0.5555555555555556,
														"#d8576b"
													],
													[
														0.6666666666666666,
														"#ed7953"
													],
													[
														0.7777777777777778,
														"#fb9f3a"
													],
													[
														0.8888888888888888,
														"#fdca26"
													],
													[
														1,
														"#f0f921"
													]
												],
												"type": "histogram2dcontour"
											}
										],
										"mesh3d": [
											{
												"colorbar": {
													"outlinewidth": 0,
													"ticks": ""
												},
												"type": "mesh3d"
											}
										],
										"parcoords": [
											{
												"line": {
													"colorbar": {
														"outlinewidth": 0,
														"ticks": ""
													}
												},
												"type": "parcoords"
											}
										],
										"pie": [
											{
												"automargin": true,
												"type": "pie"
											}
										],
										"scatter": [
											{
												"fillpattern": {
													"fillmode": "overlay",
													"size": 10,
													"solidity": 0.2
												},
												"type": "scatter"
											}
										],
										"scatter3d": [
											{
												"line": {
													"colorbar": {
														"outlinewidth": 0,
														"ticks": ""
													}
												},
												"marker": {
													"colorbar": {
														"outlinewidth": 0,
														"ticks": ""
													}
												},
												"type": "scatter3d"
											}
										],
										"scattercarpet": [
											{
												"marker": {
													"colorbar": {
														"outlinewidth": 0,
														"ticks": ""
													}
												},
												"type": "scattercarpet"
											}
										],
										"scattergeo": [
											{
												"marker": {
													"colorbar": {
														"outlinewidth": 0,
														"ticks": ""
													}
												},
												"type": "scattergeo"
											}
										],
										"scattergl": [
											{
												"marker": {
													"colorbar": {
														"outlinewidth": 0,
														"ticks": ""
													}
												},
												"type": "scattergl"
											}
										],
										"scattermapbox": [
											{
												"marker": {
													"colorbar": {
														"outlinewidth": 0,
														"ticks": ""
													}
												},
												"type": "scattermapbox"
											}
										],
										"scatterpolar": [
											{
												"marker": {
													"colorbar": {
														"outlinewidth": 0,
														"ticks": ""
													}
												},
												"type": "scatterpolar"
											}
										],
										"scatterpolargl": [
											{
												"marker": {
													"colorbar": {
														"outlinewidth": 0,
														"ticks": ""
													}
												},
												"type": "scatterpolargl"
											}
										],
										"scatterternary": [
											{
												"marker": {
													"colorbar": {
														"outlinewidth": 0,
														"ticks": ""
													}
												},
												"type": "scatterternary"
											}
										],
										"surface": [
											{
												"colorbar": {
													"outlinewidth": 0,
													"ticks": ""
												},
												"colorscale": [
													[
														0,
														"#0d0887"
													],
													[
														0.1111111111111111,
														"#46039f"
													],
													[
														0.2222222222222222,
														"#7201a8"
													],
													[
														0.3333333333333333,
														"#9c179e"
													],
													[
														0.4444444444444444,
														"#bd3786"
													],
													[
														0.5555555555555556,
														"#d8576b"
													],
													[
														0.6666666666666666,
														"#ed7953"
													],
													[
														0.7777777777777778,
														"#fb9f3a"
													],
													[
														0.8888888888888888,
														"#fdca26"
													],
													[
														1,
														"#f0f921"
													]
												],
												"type": "surface"
											}
										],
										"table": [
											{
												"cells": {
													"fill": {
														"color": "#EBF0F8"
													},
													"line": {
														"color": "white"
													}
												},
												"header": {
													"fill": {
														"color": "#C8D4E3"
													},
													"line": {
														"color": "white"
													}
												},
												"type": "table"
											}
										]
									},
									"layout": {
										"annotationdefaults": {
											"arrowcolor": "#2a3f5f",
											"arrowhead": 0,
											"arrowwidth": 1
										},
										"autotypenumbers": "strict",
										"coloraxis": {
											"colorbar": {
												"outlinewidth": 0,
												"ticks": ""
											}
										},
										"colorscale": {
											"diverging": [
												[
													0,
													"#8e0152"
												],
												[
													0.1,
													"#c51b7d"
												],
												[
													0.2,
													"#de77ae"
												],
												[
													0.3,
													"#f1b6da"
												],
												[
													0.4,
													"#fde0ef"
												],
												[
													0.5,
													"#f7f7f7"
												],
												[
													0.6,
													"#e6f5d0"
												],
												[
													0.7,
													"#b8e186"
												],
												[
													0.8,
													"#7fbc41"
												],
												[
													0.9,
													"#4d9221"
												],
												[
													1,
													"#276419"
												]
											],
											"sequential": [
												[
													0,
													"#0d0887"
												],
												[
													0.1111111111111111,
													"#46039f"
												],
												[
													0.2222222222222222,
													"#7201a8"
												],
												[
													0.3333333333333333,
													"#9c179e"
												],
												[
													0.4444444444444444,
													"#bd3786"
												],
												[
													0.5555555555555556,
													"#d8576b"
												],
												[
													0.6666666666666666,
													"#ed7953"
												],
												[
													0.7777777777777778,
													"#fb9f3a"
												],
												[
													0.8888888888888888,
													"#fdca26"
												],
												[
													1,
													"#f0f921"
												]
											],
											"sequentialminus": [
												[
													0,
													"#0d0887"
												],
												[
													0.1111111111111111,
													"#46039f"
												],
												[
													0.2222222222222222,
													"#7201a8"
												],
												[
													0.3333333333333333,
													"#9c179e"
												],
												[
													0.4444444444444444,
													"#bd3786"
												],
												[
													0.5555555555555556,
													"#d8576b"
												],
												[
													0.6666666666666666,
													"#ed7953"
												],
												[
													0.7777777777777778,
													"#fb9f3a"
												],
												[
													0.8888888888888888,
													"#fdca26"
												],
												[
													1,
													"#f0f921"
												]
											]
										},
										"colorway": [
											"#636efa",
											"#EF553B",
											"#00cc96",
											"#ab63fa",
											"#FFA15A",
											"#19d3f3",
											"#FF6692",
											"#B6E880",
											"#FF97FF",
											"#FECB52"
										],
										"font": {
											"color": "#2a3f5f"
										},
										"geo": {
											"bgcolor": "white",
											"lakecolor": "white",
											"landcolor": "#E5ECF6",
											"showlakes": true,
											"showland": true,
											"subunitcolor": "white"
										},
										"hoverlabel": {
											"align": "left"
										},
										"hovermode": "closest",
										"mapbox": {
											"style": "light"
										},
										"paper_bgcolor": "white",
										"plot_bgcolor": "#E5ECF6",
										"polar": {
											"angularaxis": {
												"gridcolor": "white",
												"linecolor": "white",
												"ticks": ""
											},
											"bgcolor": "#E5ECF6",
											"radialaxis": {
												"gridcolor": "white",
												"linecolor": "white",
												"ticks": ""
											}
										},
										"scene": {
											"xaxis": {
												"backgroundcolor": "#E5ECF6",
												"gridcolor": "white",
												"gridwidth": 2,
												"linecolor": "white",
												"showbackground": true,
												"ticks": "",
												"zerolinecolor": "white"
											},
											"yaxis": {
												"backgroundcolor": "#E5ECF6",
												"gridcolor": "white",
												"gridwidth": 2,
												"linecolor": "white",
												"showbackground": true,
												"ticks": "",
												"zerolinecolor": "white"
											},
											"zaxis": {
												"backgroundcolor": "#E5ECF6",
												"gridcolor": "white",
												"gridwidth": 2,
												"linecolor": "white",
												"showbackground": true,
												"ticks": "",
												"zerolinecolor": "white"
											}
										},
										"shapedefaults": {
											"line": {
												"color": "#2a3f5f"
											}
										},
										"ternary": {
											"aaxis": {
												"gridcolor": "white",
												"linecolor": "white",
												"ticks": ""
											},
											"baxis": {
												"gridcolor": "white",
												"linecolor": "white",
												"ticks": ""
											},
											"bgcolor": "#E5ECF6",
											"caxis": {
												"gridcolor": "white",
												"linecolor": "white",
												"ticks": ""
											}
										},
										"title": {
											"x": 0.05
										},
										"xaxis": {
											"automargin": true,
											"gridcolor": "white",
											"linecolor": "white",
											"ticks": "",
											"title": {
												"standoff": 15
											},
											"zerolinecolor": "white",
											"zerolinewidth": 2
										},
										"yaxis": {
											"automargin": true,
											"gridcolor": "white",
											"linecolor": "white",
											"ticks": "",
											"title": {
												"standoff": 15
											},
											"zerolinecolor": "white",
											"zerolinewidth": 2
										}
									}
								},
								"title": {
									"text": "Commit timings"
								},
								"xaxis": {
									"anchor": "y",
									"domain": [
										0,
										1
									],
									"ticktext": [
										0,
										2,
										4,
										6,
										8,
										10,
										12,
										14,
										16,
										18,
										20,
										22
									],
									"tickvals": [
										0,
										2,
										4,
										6,
										8,
										10,
										12,
										14,
										16,
										18,
										20,
										22
									],
									"title": {
										"text": "Hour of the day"
									}
								},
								"yaxis": {
									"anchor": "x",
									"domain": [
										0,
										1
									],
									"ticktext": [
										"Monday",
										"Tuesday",
										"Wednesday",
										"Thursday",
										"Friday",
										"Saturday",
										"Sunday"
									],
									"tickvals": [
										0,
										1,
										2,
										3,
										4,
										5,
										6
									],
									"title": {
										"text": "Day of the week"
									}
								}
							}
						}
					},
					"metadata": {},
					"output_type": "display_data"
				},
				{
					"ename": "AttributeError",
					"evalue": "'Figure' object has no attribute 'close'",
					"output_type": "error",
					"traceback": [
						"\u001b[1;31m---------------------------------------------------------------------------\u001b[0m",
						"\u001b[1;31mAttributeError\u001b[0m                            Traceback (most recent call last)",
						"File \u001b[1;32mc:\\Users\\nikke\\OneDrive\\Privat\\Projects\\RepositoryGuide-Python\\venv\\lib\\site-packages\\ipywidgets\\widgets\\widget.py:766\u001b[0m, in \u001b[0;36mWidget._handle_msg\u001b[1;34m(self, msg)\u001b[0m\n\u001b[0;32m    764\u001b[0m         \u001b[39mif\u001b[39;00m \u001b[39m'\u001b[39m\u001b[39mbuffer_paths\u001b[39m\u001b[39m'\u001b[39m \u001b[39min\u001b[39;00m data:\n\u001b[0;32m    765\u001b[0m             _put_buffers(state, data[\u001b[39m'\u001b[39m\u001b[39mbuffer_paths\u001b[39m\u001b[39m'\u001b[39m], msg[\u001b[39m'\u001b[39m\u001b[39mbuffers\u001b[39m\u001b[39m'\u001b[39m])\n\u001b[1;32m--> 766\u001b[0m         \u001b[39mself\u001b[39;49m\u001b[39m.\u001b[39;49mset_state(state)\n\u001b[0;32m    768\u001b[0m \u001b[39m# Handle a state request.\u001b[39;00m\n\u001b[0;32m    769\u001b[0m \u001b[39melif\u001b[39;00m method \u001b[39m==\u001b[39m \u001b[39m'\u001b[39m\u001b[39mrequest_state\u001b[39m\u001b[39m'\u001b[39m:\n",
						"File \u001b[1;32mc:\\Users\\nikke\\OneDrive\\Privat\\Projects\\RepositoryGuide-Python\\venv\\lib\\site-packages\\ipywidgets\\widgets\\widget.py:648\u001b[0m, in \u001b[0;36mWidget.set_state\u001b[1;34m(self, sync_data)\u001b[0m\n\u001b[0;32m    645\u001b[0m \u001b[39mif\u001b[39;00m name \u001b[39min\u001b[39;00m \u001b[39mself\u001b[39m\u001b[39m.\u001b[39mkeys:\n\u001b[0;32m    646\u001b[0m     from_json \u001b[39m=\u001b[39m \u001b[39mself\u001b[39m\u001b[39m.\u001b[39mtrait_metadata(name, \u001b[39m'\u001b[39m\u001b[39mfrom_json\u001b[39m\u001b[39m'\u001b[39m,\n\u001b[0;32m    647\u001b[0m                                     \u001b[39mself\u001b[39m\u001b[39m.\u001b[39m_trait_from_json)\n\u001b[1;32m--> 648\u001b[0m     \u001b[39mself\u001b[39m\u001b[39m.\u001b[39mset_trait(name, from_json(sync_data[name], \u001b[39mself\u001b[39m))\n",
						"File \u001b[1;32m~\\Anaconda3\\lib\\contextlib.py:126\u001b[0m, in \u001b[0;36m_GeneratorContextManager.__exit__\u001b[1;34m(self, typ, value, traceback)\u001b[0m\n\u001b[0;32m    124\u001b[0m \u001b[39mif\u001b[39;00m typ \u001b[39mis\u001b[39;00m \u001b[39mNone\u001b[39;00m:\n\u001b[0;32m    125\u001b[0m     \u001b[39mtry\u001b[39;00m:\n\u001b[1;32m--> 126\u001b[0m         \u001b[39mnext\u001b[39;49m(\u001b[39mself\u001b[39;49m\u001b[39m.\u001b[39;49mgen)\n\u001b[0;32m    127\u001b[0m     \u001b[39mexcept\u001b[39;00m \u001b[39mStopIteration\u001b[39;00m:\n\u001b[0;32m    128\u001b[0m         \u001b[39mreturn\u001b[39;00m \u001b[39mFalse\u001b[39;00m\n",
						"File \u001b[1;32mc:\\Users\\nikke\\OneDrive\\Privat\\Projects\\RepositoryGuide-Python\\venv\\lib\\site-packages\\traitlets\\traitlets.py:1502\u001b[0m, in \u001b[0;36mHasTraits.hold_trait_notifications\u001b[1;34m(self)\u001b[0m\n\u001b[0;32m   1500\u001b[0m \u001b[39mfor\u001b[39;00m changes \u001b[39min\u001b[39;00m cache\u001b[39m.\u001b[39mvalues():\n\u001b[0;32m   1501\u001b[0m     \u001b[39mfor\u001b[39;00m change \u001b[39min\u001b[39;00m changes:\n\u001b[1;32m-> 1502\u001b[0m         \u001b[39mself\u001b[39;49m\u001b[39m.\u001b[39;49mnotify_change(change)\n",
						"File \u001b[1;32mc:\\Users\\nikke\\OneDrive\\Privat\\Projects\\RepositoryGuide-Python\\venv\\lib\\site-packages\\ipywidgets\\widgets\\widget.py:694\u001b[0m, in \u001b[0;36mWidget.notify_change\u001b[1;34m(self, change)\u001b[0m\n\u001b[0;32m    691\u001b[0m     \u001b[39mif\u001b[39;00m name \u001b[39min\u001b[39;00m \u001b[39mself\u001b[39m\u001b[39m.\u001b[39mkeys \u001b[39mand\u001b[39;00m \u001b[39mself\u001b[39m\u001b[39m.\u001b[39m_should_send_property(name, \u001b[39mgetattr\u001b[39m(\u001b[39mself\u001b[39m, name)):\n\u001b[0;32m    692\u001b[0m         \u001b[39m# Send new state to front-end\u001b[39;00m\n\u001b[0;32m    693\u001b[0m         \u001b[39mself\u001b[39m\u001b[39m.\u001b[39msend_state(key\u001b[39m=\u001b[39mname)\n\u001b[1;32m--> 694\u001b[0m \u001b[39msuper\u001b[39;49m()\u001b[39m.\u001b[39;49mnotify_change(change)\n",
						"File \u001b[1;32mc:\\Users\\nikke\\OneDrive\\Privat\\Projects\\RepositoryGuide-Python\\venv\\lib\\site-packages\\traitlets\\traitlets.py:1517\u001b[0m, in \u001b[0;36mHasTraits.notify_change\u001b[1;34m(self, change)\u001b[0m\n\u001b[0;32m   1515\u001b[0m \u001b[39mdef\u001b[39;00m \u001b[39mnotify_change\u001b[39m(\u001b[39mself\u001b[39m, change):\n\u001b[0;32m   1516\u001b[0m \u001b[39m    \u001b[39m\u001b[39m\"\"\"Notify observers of a change event\"\"\"\u001b[39;00m\n\u001b[1;32m-> 1517\u001b[0m     \u001b[39mreturn\u001b[39;00m \u001b[39mself\u001b[39;49m\u001b[39m.\u001b[39;49m_notify_observers(change)\n",
						"File \u001b[1;32mc:\\Users\\nikke\\OneDrive\\Privat\\Projects\\RepositoryGuide-Python\\venv\\lib\\site-packages\\traitlets\\traitlets.py:1564\u001b[0m, in \u001b[0;36mHasTraits._notify_observers\u001b[1;34m(self, event)\u001b[0m\n\u001b[0;32m   1561\u001b[0m \u001b[39melif\u001b[39;00m \u001b[39misinstance\u001b[39m(c, EventHandler) \u001b[39mand\u001b[39;00m c\u001b[39m.\u001b[39mname \u001b[39mis\u001b[39;00m \u001b[39mnot\u001b[39;00m \u001b[39mNone\u001b[39;00m:\n\u001b[0;32m   1562\u001b[0m     c \u001b[39m=\u001b[39m \u001b[39mgetattr\u001b[39m(\u001b[39mself\u001b[39m, c\u001b[39m.\u001b[39mname)\n\u001b[1;32m-> 1564\u001b[0m c(event)\n",
						"File \u001b[1;32mc:\\Users\\nikke\\OneDrive\\Privat\\Projects\\RepositoryGuide-Python\\venv\\lib\\site-packages\\ipywidgets\\widgets\\widget_selection.py:236\u001b[0m, in \u001b[0;36m_Selection._propagate_index\u001b[1;34m(self, change)\u001b[0m\n\u001b[0;32m    234\u001b[0m     \u001b[39mself\u001b[39m\u001b[39m.\u001b[39mlabel \u001b[39m=\u001b[39m label\n\u001b[0;32m    235\u001b[0m \u001b[39mif\u001b[39;00m \u001b[39mself\u001b[39m\u001b[39m.\u001b[39mvalue \u001b[39mis\u001b[39;00m \u001b[39mnot\u001b[39;00m value:\n\u001b[1;32m--> 236\u001b[0m     \u001b[39mself\u001b[39;49m\u001b[39m.\u001b[39;49mvalue \u001b[39m=\u001b[39m value\n",
						"File \u001b[1;32mc:\\Users\\nikke\\OneDrive\\Privat\\Projects\\RepositoryGuide-Python\\venv\\lib\\site-packages\\traitlets\\traitlets.py:732\u001b[0m, in \u001b[0;36mTraitType.__set__\u001b[1;34m(self, obj, value)\u001b[0m\n\u001b[0;32m    730\u001b[0m     \u001b[39mraise\u001b[39;00m TraitError(\u001b[39m'\u001b[39m\u001b[39mThe \u001b[39m\u001b[39m\"\u001b[39m\u001b[39m%s\u001b[39;00m\u001b[39m\"\u001b[39m\u001b[39m trait is read-only.\u001b[39m\u001b[39m'\u001b[39m \u001b[39m%\u001b[39m \u001b[39mself\u001b[39m\u001b[39m.\u001b[39mname)\n\u001b[0;32m    731\u001b[0m \u001b[39melse\u001b[39;00m:\n\u001b[1;32m--> 732\u001b[0m     \u001b[39mself\u001b[39;49m\u001b[39m.\u001b[39;49mset(obj, value)\n",
						"File \u001b[1;32mc:\\Users\\nikke\\OneDrive\\Privat\\Projects\\RepositoryGuide-Python\\venv\\lib\\site-packages\\traitlets\\traitlets.py:721\u001b[0m, in \u001b[0;36mTraitType.set\u001b[1;34m(self, obj, value)\u001b[0m\n\u001b[0;32m    717\u001b[0m     silent \u001b[39m=\u001b[39m \u001b[39mFalse\u001b[39;00m\n\u001b[0;32m    718\u001b[0m \u001b[39mif\u001b[39;00m silent \u001b[39mis\u001b[39;00m \u001b[39mnot\u001b[39;00m \u001b[39mTrue\u001b[39;00m:\n\u001b[0;32m    719\u001b[0m     \u001b[39m# we explicitly compare silent to True just in case the equality\u001b[39;00m\n\u001b[0;32m    720\u001b[0m     \u001b[39m# comparison above returns something other than True/False\u001b[39;00m\n\u001b[1;32m--> 721\u001b[0m     obj\u001b[39m.\u001b[39;49m_notify_trait(\u001b[39mself\u001b[39;49m\u001b[39m.\u001b[39;49mname, old_value, new_value)\n",
						"File \u001b[1;32mc:\\Users\\nikke\\OneDrive\\Privat\\Projects\\RepositoryGuide-Python\\venv\\lib\\site-packages\\traitlets\\traitlets.py:1505\u001b[0m, in \u001b[0;36mHasTraits._notify_trait\u001b[1;34m(self, name, old_value, new_value)\u001b[0m\n\u001b[0;32m   1504\u001b[0m \u001b[39mdef\u001b[39;00m \u001b[39m_notify_trait\u001b[39m(\u001b[39mself\u001b[39m, name, old_value, new_value):\n\u001b[1;32m-> 1505\u001b[0m     \u001b[39mself\u001b[39;49m\u001b[39m.\u001b[39;49mnotify_change(\n\u001b[0;32m   1506\u001b[0m         Bunch(\n\u001b[0;32m   1507\u001b[0m             name\u001b[39m=\u001b[39;49mname,\n\u001b[0;32m   1508\u001b[0m             old\u001b[39m=\u001b[39;49mold_value,\n\u001b[0;32m   1509\u001b[0m             new\u001b[39m=\u001b[39;49mnew_value,\n\u001b[0;32m   1510\u001b[0m             owner\u001b[39m=\u001b[39;49m\u001b[39mself\u001b[39;49m,\n\u001b[0;32m   1511\u001b[0m             \u001b[39mtype\u001b[39;49m\u001b[39m=\u001b[39;49m\u001b[39m\"\u001b[39;49m\u001b[39mchange\u001b[39;49m\u001b[39m\"\u001b[39;49m,\n\u001b[0;32m   1512\u001b[0m         )\n\u001b[0;32m   1513\u001b[0m     )\n",
						"File \u001b[1;32mc:\\Users\\nikke\\OneDrive\\Privat\\Projects\\RepositoryGuide-Python\\venv\\lib\\site-packages\\ipywidgets\\widgets\\widget.py:694\u001b[0m, in \u001b[0;36mWidget.notify_change\u001b[1;34m(self, change)\u001b[0m\n\u001b[0;32m    691\u001b[0m     \u001b[39mif\u001b[39;00m name \u001b[39min\u001b[39;00m \u001b[39mself\u001b[39m\u001b[39m.\u001b[39mkeys \u001b[39mand\u001b[39;00m \u001b[39mself\u001b[39m\u001b[39m.\u001b[39m_should_send_property(name, \u001b[39mgetattr\u001b[39m(\u001b[39mself\u001b[39m, name)):\n\u001b[0;32m    692\u001b[0m         \u001b[39m# Send new state to front-end\u001b[39;00m\n\u001b[0;32m    693\u001b[0m         \u001b[39mself\u001b[39m\u001b[39m.\u001b[39msend_state(key\u001b[39m=\u001b[39mname)\n\u001b[1;32m--> 694\u001b[0m \u001b[39msuper\u001b[39;49m()\u001b[39m.\u001b[39;49mnotify_change(change)\n",
						"File \u001b[1;32mc:\\Users\\nikke\\OneDrive\\Privat\\Projects\\RepositoryGuide-Python\\venv\\lib\\site-packages\\traitlets\\traitlets.py:1517\u001b[0m, in \u001b[0;36mHasTraits.notify_change\u001b[1;34m(self, change)\u001b[0m\n\u001b[0;32m   1515\u001b[0m \u001b[39mdef\u001b[39;00m \u001b[39mnotify_change\u001b[39m(\u001b[39mself\u001b[39m, change):\n\u001b[0;32m   1516\u001b[0m \u001b[39m    \u001b[39m\u001b[39m\"\"\"Notify observers of a change event\"\"\"\u001b[39;00m\n\u001b[1;32m-> 1517\u001b[0m     \u001b[39mreturn\u001b[39;00m \u001b[39mself\u001b[39;49m\u001b[39m.\u001b[39;49m_notify_observers(change)\n",
						"File \u001b[1;32mc:\\Users\\nikke\\OneDrive\\Privat\\Projects\\RepositoryGuide-Python\\venv\\lib\\site-packages\\traitlets\\traitlets.py:1564\u001b[0m, in \u001b[0;36mHasTraits._notify_observers\u001b[1;34m(self, event)\u001b[0m\n\u001b[0;32m   1561\u001b[0m \u001b[39melif\u001b[39;00m \u001b[39misinstance\u001b[39m(c, EventHandler) \u001b[39mand\u001b[39;00m c\u001b[39m.\u001b[39mname \u001b[39mis\u001b[39;00m \u001b[39mnot\u001b[39;00m \u001b[39mNone\u001b[39;00m:\n\u001b[0;32m   1562\u001b[0m     c \u001b[39m=\u001b[39m \u001b[39mgetattr\u001b[39m(\u001b[39mself\u001b[39m, c\u001b[39m.\u001b[39mname)\n\u001b[1;32m-> 1564\u001b[0m c(event)\n",
						"Cell \u001b[1;32mIn[111], line 31\u001b[0m, in \u001b[0;36mupdate_sprint\u001b[1;34m(change)\u001b[0m\n\u001b[0;32m     29\u001b[0m selected_team_name \u001b[39m=\u001b[39m team_names[team_selector\u001b[39m.\u001b[39mvalue]\u001b[39m.\u001b[39mvalue \u001b[39mif\u001b[39;00m team_selector\u001b[39m.\u001b[39mvalue \u001b[39m!=\u001b[39m \u001b[39m-\u001b[39m\u001b[39m1\u001b[39m \u001b[39melse\u001b[39;00m \u001b[39m'\u001b[39m\u001b[39mAll Authors\u001b[39m\u001b[39m'\u001b[39m\n\u001b[0;32m     30\u001b[0m selected_team_members \u001b[39m=\u001b[39m team_members[team_selector\u001b[39m.\u001b[39mvalue] \u001b[39mif\u001b[39;00m team_selector\u001b[39m.\u001b[39mvalue \u001b[39m!=\u001b[39m \u001b[39m-\u001b[39m\u001b[39m1\u001b[39m \u001b[39melse\u001b[39;00m \u001b[39mNone\u001b[39;00m\n\u001b[1;32m---> 31\u001b[0m new_fig \u001b[39m=\u001b[39m plot_commit_heatmap(commits, selected_team_members, start_dates[sprint_selector\u001b[39m.\u001b[39;49mvalue]\u001b[39m.\u001b[39;49mvalue, end_dates[sprint_selector\u001b[39m.\u001b[39;49mvalue]\u001b[39m.\u001b[39;49mvalue, time_mode_selector\u001b[39m.\u001b[39;49mvalue, fig)\n\u001b[0;32m     32\u001b[0m new_fig\u001b[39m.\u001b[39mupdate_layout(title\u001b[39m=\u001b[39m\u001b[39mf\u001b[39m\u001b[39m'\u001b[39m\u001b[39mCommit timings during sprint \u001b[39m\u001b[39m\\'\u001b[39;00m\u001b[39m{\u001b[39;00msprint_names[change[\u001b[39m\"\u001b[39m\u001b[39mnew\u001b[39m\u001b[39m\"\u001b[39m]]\u001b[39m.\u001b[39mvalue\u001b[39m}\u001b[39;00m\u001b[39m\\'\u001b[39;00m\u001b[39m (\u001b[39m\u001b[39m{\u001b[39;00mstart_dates[change[\u001b[39m\"\u001b[39m\u001b[39mnew\u001b[39m\u001b[39m\"\u001b[39m]]\u001b[39m.\u001b[39mvalue\u001b[39m}\u001b[39;00m\u001b[39m - \u001b[39m\u001b[39m{\u001b[39;00mend_dates[change[\u001b[39m\"\u001b[39m\u001b[39mnew\u001b[39m\u001b[39m\"\u001b[39m]]\u001b[39m.\u001b[39mvalue\u001b[39m}\u001b[39;00m\u001b[39m) for team \u001b[39m\u001b[39m\\'\u001b[39;00m\u001b[39m{\u001b[39;00mselected_team_name\u001b[39m}\u001b[39;00m\u001b[39m\\'\u001b[39;00m\u001b[39m'\u001b[39m)\n",
						"Cell \u001b[1;32mIn[110], line 18\u001b[0m, in \u001b[0;36mplot_commit_heatmap\u001b[1;34m(commits, team_members, start_date, end_date, time_mode, previous_figure)\u001b[0m\n\u001b[0;32m     15\u001b[0m \u001b[39mdef\u001b[39;00m \u001b[39mplot_commit_heatmap\u001b[39m(commits, team_members\u001b[39m=\u001b[39m\u001b[39mNone\u001b[39;00m, start_date\u001b[39m=\u001b[39m\u001b[39mNone\u001b[39;00m, end_date\u001b[39m=\u001b[39m\u001b[39mNone\u001b[39;00m, time_mode\u001b[39m=\u001b[39m\u001b[39m\"\u001b[39m\u001b[39mtime_of_day\u001b[39m\u001b[39m\"\u001b[39m, previous_figure\u001b[39m=\u001b[39m\u001b[39mNone\u001b[39;00m):\n\u001b[0;32m     16\u001b[0m \t\u001b[39mif\u001b[39;00m previous_figure \u001b[39mis\u001b[39;00m \u001b[39mnot\u001b[39;00m \u001b[39mNone\u001b[39;00m:\n\u001b[0;32m     17\u001b[0m \t\t\u001b[39m# Clear the previous figure\u001b[39;00m\n\u001b[1;32m---> 18\u001b[0m \t\tprevious_figure\u001b[39m.\u001b[39;49mclose()\n\u001b[0;32m     20\u001b[0m \t\u001b[39m# Convert start and and dates to datetime objects\u001b[39;00m\n\u001b[0;32m     21\u001b[0m \t\u001b[39mif\u001b[39;00m start_date \u001b[39mis\u001b[39;00m \u001b[39mnot\u001b[39;00m \u001b[39mNone\u001b[39;00m:\n",
						"\u001b[1;31mAttributeError\u001b[0m: 'Figure' object has no attribute 'close'"
					]
				}
			],
			"source": [
				"# Widget to select the displayed sprint\n",
				"sprint_selector = ipywidgets.Dropdown(\n",
				"\toptions=[(sprint_names[i].value, i) for i in range(num_sprints.value)],\n",
				"\tdescription='Sprint:'\n",
				")\n",
				"display.display(sprint_selector)\n",
				"\n",
				"# Widget to select the displayed team\n",
				"team_selector = ipywidgets.Dropdown(\n",
				"\toptions=[('All Authors', -1)] + [(team_names[i].value, i) for i in range(num_teams.value)],\n",
				"\tdescription='Team:'\n",
				")\n",
				"display.display(team_selector)\n",
				"selected_team_name = team_names[team_selector.value].value if team_selector.value != -1 else 'All Authors'\n",
				"selected_team_members = team_members[team_selector.value] if team_selector.value != -1 else None\n",
				"\n",
				"# Widget to select which time-mode to display\n",
				"time_mode_selector = ipywidgets.Dropdown(\n",
				"\toptions=[('Hour of the day', 'hour'), ('Time of day', 'time_of_day')],\n",
				"\tdescription='Time mode:'\n",
				")\n",
				"display.display(time_mode_selector)\n",
				"\n",
				"fig = plot_commit_heatmap(commits, selected_team_members, start_dates[sprint_selector.value].value, end_dates[sprint_selector.value].value, time_mode_selector.value)\n",
				"fig.update_layout(title=f'Commit timings during sprint \\'{sprint_names[sprint_selector.value].value}\\' ({start_dates[sprint_selector.value].value} - {end_dates[sprint_selector.value].value}) for team \\'{selected_team_name}\\'')\n",
				"display.display(fig)\n",
				"\n",
				"def update_sprint(change):\n",
				"\tselected_team_name = team_names[team_selector.value].value if team_selector.value != -1 else 'All Authors'\n",
				"\tselected_team_members = team_members[team_selector.value] if team_selector.value != -1 else None\n",
				"\tfig.data[0].z = plot_commit_heatmap(commits, selected_team_members, start_dates[sprint_selector.value].value, end_dates[sprint_selector.value].value, time_mode_selector.value).data[0].z\n",
				"\tfig.update_layout(title=f'Commit timings during sprint \\'{sprint_names[change[\"new\"]].value}\\' ({start_dates[change[\"new\"]].value} - {end_dates[change[\"new\"]].value}) for team \\'{selected_team_name}\\'')\n",
				"\n",
				"sprint_selector.observe(update_sprint, names='value')\n",
				"\n",
				"def update_team(change):\n",
				"\tselected_team_name = team_names[team_selector.value].value if team_selector.value != -1 else 'All Authors'\n",
				"\tselected_team_members = team_members[team_selector.value] if team_selector.value != -1 else None\n",
				"\tfig.data[0].z = plot_commit_heatmap(commits, selected_team_members, start_dates[sprint_selector.value].value, end_dates[sprint_selector.value].value, time_mode_selector.value).data[0].z\n",
				"\tfig.update_layout(title=f'Commit timings during sprint \\'{sprint_names[sprint_selector.value].value}\\' ({start_dates[sprint_selector.value].value} - {end_dates[sprint_selector.value].value}) for team \\'{selected_team_name}\\'')\n",
				"\n",
				"team_selector.observe(update_team, names='value')\n",
				"\n",
				"def update_time_mode(change):\n",
				"\tselected_team_name = team_names[team_selector.value].value if team_selector.value != -1 else 'All Authors'\n",
				"\tselected_team_members = team_members[team_selector.value] if team_selector.value != -1 else None\n",
				"\t# fig.data[0].y = plot_commit_heatmap(commits, selected_team_members, start_dates[sprint_selector.value].value, end_dates[sprint_selector.value].value, time_mode_selector.value).data[0].y\n",
				"\tfig.data[0].z = plot_commit_heatmap(commits, selected_team_members, start_dates[sprint_selector.value].value, end_dates[sprint_selector.value].value, time_mode_selector.value).data[0].z\n",
				"\tfig.layout = plot_commit_heatmap(commits, selected_team_members, start_dates[sprint_selector.value].value, end_dates[sprint_selector.value].value, time_mode_selector.value).layout\n",
				"\tfig.update_layout(title=f'Commit timings during sprint \\'{sprint_names[sprint_selector.value].value}\\' ({start_dates[sprint_selector.value].value} - {end_dates[sprint_selector.value].value}) for team \\'{selected_team_name}\\'')\n",
				"\n",
				"time_mode_selector.observe(update_time_mode, names='value')"
			]
		},
		{
			"cell_type": "code",
			"execution_count": null,
			"metadata": {},
			"outputs": [],
			"source": []
		}
	],
	"metadata": {
		"kernelspec": {
			"display_name": "venv",
			"language": "python",
			"name": "python3"
		},
		"language_info": {
			"codemirror_mode": {
				"name": "ipython",
				"version": 3
			},
			"file_extension": ".py",
			"mimetype": "text/x-python",
			"name": "python",
			"nbconvert_exporter": "python",
			"pygments_lexer": "ipython3",
			"version": "3.9.7"
		},
		"vscode": {
			"interpreter": {
				"hash": "067b78e4a44e8b0a0f6f4f23266782a314d21c0d58909bd8030b6a0c0eed9a04"
			}
		}
	},
	"nbformat": 4,
	"nbformat_minor": 4
}
