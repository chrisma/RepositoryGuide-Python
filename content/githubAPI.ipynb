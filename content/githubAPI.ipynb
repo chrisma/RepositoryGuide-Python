{
  "cells": [
    {
      "attachments": {},
      "cell_type": "markdown",
      "metadata": {},
      "source": [
        "This notebook handles the interaction with the Github API.\n",
        "\n",
        "The notebook will *only* run in the JupyterLite environment."
      ]
    },
    {
      "cell_type": "code",
      "execution_count": null,
      "metadata": {
        "trusted": true
      },
      "outputs": [],
      "source": [
        "%pip install ipywidgets"
      ]
    },
    {
      "cell_type": "code",
      "execution_count": null,
      "metadata": {
        "trusted": true
      },
      "outputs": [],
      "source": [
        "import json\n",
        "from js import Object, fetch\n",
        "import ipywidgets\n",
        "from IPython import display\n",
        "# from pyodide.ffi import to_js"
      ]
    },
    {
      "attachments": {},
      "cell_type": "markdown",
      "metadata": {},
      "source": [
        "The two text widgets will ask you for the owner and name of the repository you want to get the commits for.\n",
        "\n",
        "Example: For `https://github.com/hpi-swt2/bookkeeper-portal-red` the owner is `hpi-swt2` and the name is `bookkeeper-portal-red`."
      ]
    },
    {
      "cell_type": "code",
      "execution_count": null,
      "metadata": {
        "trusted": true
      },
      "outputs": [],
      "source": [
        "owner = ipywidgets.Text(\n",
        "    value=\"hpi-swt2\",\n",
        "    placeholder=\"Enter the name of the repository owner\",\n",
        "    description=\"Repo owner:\",\n",
        "    disabled=False\n",
        ")\n",
        "\n",
        "repository = ipywidgets.Text(\n",
        "    value=\"bookkeeper-portal-red\",\n",
        "    placeholder=\"Enter the name of your repository\",\n",
        "    description=\"Repo name:\",\n",
        "    disabled=False\n",
        ")\n",
        "\n",
        "# auth_token = ipywidgets.Text(\n",
        "#     value=\"YOUR-TOKEN\",\n",
        "#     placeholder=\"Enter your GitHub auth token\",\n",
        "#     description=\"Auth token:\",\n",
        "#     disabled=False\n",
        "# )\n",
        "\n",
        "display.display(owner)\n",
        "display.display(repository)\n",
        "# display.display(auth_token)"
      ]
    },
    {
      "attachments": {},
      "cell_type": "markdown",
      "metadata": {},
      "source": [
        "This cell gets a list of all commits for the given repository and saves the data to a file.\n",
        "\n",
        "You will notice the commented out headers argument.\n",
        "We would normally use this to authenticate ourselves against the Github API, but unfortunately, the `fetch` call breaks with an uninformative error message when we add these headers.\n",
        "\n",
        "The consequence of this is that all requests are subject to a **lower rate limit**, so make sure to not run this cell too often."
      ]
    },
    {
      "cell_type": "code",
      "execution_count": null,
      "metadata": {
        "trusted": true
      },
      "outputs": [],
      "source": [
        "page = 0\n",
        "commits = []\n",
        "\n",
        "while True:\n",
        "    resp = await fetch(f\"https://api.github.com/repos/{owner.value}/{repository.value}/commits?per_page=100&page={page}\", \n",
        "                       method=\"GET\",\n",
        "                       # headers=Object.fromEntries(to_js(\n",
        "                       #     { \n",
        "                       #      \"Accept\": \"application/vnd.github+json\", \n",
        "                       #      \"Authorization\": f\"Bearer {auth_token.value}\",\n",
        "                       #      \"X-GitHub-Api-Version\": \"2022-11-28\"\n",
        "                       #     }\n",
        "                       # ))\n",
        "                      )\n",
        "    res = await resp.text()\n",
        "    res = json.loads(res)\n",
        "\n",
        "    # All commits were fetched\n",
        "    if len(res) == 0:\n",
        "        break\n",
        "        \n",
        "    # Rate limit exceeded\n",
        "    if len(res) == 2 and res[\"message\"].startswith(\"API rate limit exceeded\"):\n",
        "        print(res[\"message\"])\n",
        "        break\n",
        "    \n",
        "    commits.extend(res)\n",
        "    page += 1   \n",
        "\n",
        "# Write the commit data to a JSON file\n",
        "with open(f\"commits_{owner.value}_{repository.value}.json\", \"w\") as f:\n",
        "    json.dump(commits, f, indent=4)"
      ]
    }
  ],
  "metadata": {
    "kernelspec": {
      "display_name": "Python (Pyodide)",
      "language": "python",
      "name": "python"
    },
    "language_info": {
      "codemirror_mode": {
        "name": "python",
        "version": 3
      },
      "file_extension": ".py",
      "mimetype": "text/x-python",
      "name": "python",
      "nbconvert_exporter": "python",
      "pygments_lexer": "ipython3",
      "version": "3.8"
    },
    "vscode": {
      "interpreter": {
        "hash": "0d4cfa05203f6ad3f6b5aed40e3307e6bfcf5e4960f647b01455852745c31ea2"
      }
    }
  },
  "nbformat": 4,
  "nbformat_minor": 4
}
