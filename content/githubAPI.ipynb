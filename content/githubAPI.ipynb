{
 "cells": [
  {
   "attachments": {},
   "cell_type": "markdown",
   "metadata": {},
   "source": [
    "This notebook handles the interaction with the Github API.\n",
    "In a final step, the data must be serialized to be usable by the visualization-notebook.\n",
    "\n",
    "Requirement: The notebook must not necessarily be able to run on JupyterLite, though this would be optimal.\n",
    "\n",
    "**Notice:**<br>\n",
    "As we found out, PyGithub does *not* provide all commit data that is needed by our tool, as it does not return the full API response when `repo.get_commits()` is run.\n",
    "More specifically, it does not return the \"author\" field, which concerns the crucial \"login\" field containing the username.\n",
    "Therefore, this this notebook does not work as intended.<br>\n",
    "For this reason, we decided to obtain the necessary data by directly using the Github CLI.\n",
    "The result of this can be found in the `commits.json` file.\n",
    "This also means that the code in this notebook is deprecated and should not be used to obtain any data, as it will not work with the visualization notebook."
   ]
  },
  {
   "cell_type": "code",
   "execution_count": 2,
   "metadata": {},
   "outputs": [],
   "source": [
    "import json\n",
    "from github import Github"
   ]
  },
  {
   "cell_type": "code",
   "execution_count": 3,
   "metadata": {},
   "outputs": [],
   "source": [
    "# For calls that do not require authentication\n",
    "# gh = Github()\n",
    "\n",
    "# If you require authentication, use this instead. We assume that you have a \"config.json\" with your github_access_token in the project root directory:\n",
    "with open('../config.json') as f:\n",
    "\tsecrets = json.load(f)\n",
    "access_token = secrets['github_access_token']\n",
    "gh = Github(access_token)"
   ]
  },
  {
   "cell_type": "code",
   "execution_count": 6,
   "metadata": {},
   "outputs": [],
   "source": [
    "repo = gh.get_repo(\"hpi-swt2/bookkeeper-portal-red\")"
   ]
  },
  {
   "attachments": {},
   "cell_type": "markdown",
   "metadata": {},
   "source": [
    "Unfortunately, PYGithub does not return the full API response when running `repo.get_commits()`.\n",
    "More specifically, it does not return the \"author\" field, which concerns the crucial \"login\" field containing the username.\n",
    "Therefore, this this notebook does not work as intended.\n",
    "It is therefore recommended to use the native Github API instead, e.g. by using the CLI tool."
   ]
  },
  {
   "cell_type": "code",
   "execution_count": 7,
   "metadata": {},
   "outputs": [],
   "source": [
    "commits = repo.get_commits()"
   ]
  },
  {
   "cell_type": "code",
   "execution_count": 8,
   "metadata": {},
   "outputs": [],
   "source": [
    "# We need the _rawData (==the json response from the API) to be able to serialize it\n",
    "commits = [commit.commit._rawData for commit in commits]"
   ]
  },
  {
   "cell_type": "code",
   "execution_count": 10,
   "metadata": {},
   "outputs": [],
   "source": [
    "# Dump the data to a file to 'transfer' it to jupyterlite\n",
    "with open('commits_DEPRECATED.json', 'w') as f:\n",
    "\tjson.dump(commits, f, indent=4)"
   ]
  }
 ],
 "metadata": {
  "kernelspec": {
   "display_name": "venv",
   "language": "python",
   "name": "python3"
  },
  "language_info": {
   "codemirror_mode": {
    "name": "ipython",
    "version": 3
   },
   "file_extension": ".py",
   "mimetype": "text/x-python",
   "name": "python",
   "nbconvert_exporter": "python",
   "pygments_lexer": "ipython3",
   "version": "3.9.7"
  },
  "orig_nbformat": 4,
  "vscode": {
   "interpreter": {
    "hash": "0d4cfa05203f6ad3f6b5aed40e3307e6bfcf5e4960f647b01455852745c31ea2"
   }
  }
 },
 "nbformat": 4,
 "nbformat_minor": 2
}
